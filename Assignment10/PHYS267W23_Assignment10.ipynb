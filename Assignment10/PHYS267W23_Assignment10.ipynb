{
 "cells": [
  {
   "cell_type": "markdown",
   "id": "d38ab18d",
   "metadata": {},
   "source": [
    "# PHYS 267 - Assignment 10 (Final Assessment)\n",
    "###### Last Updated: March 13, 2023 by Dr. Brenda Lee\n",
    "***\n",
    "<div class=\"alert alert-block alert-danger\">⭐ <b>Final Assessment Instructions</b>:<br>\n",
    "    <p style=\"padding-left: 20px;\"><b>Quiz</b>: 30 marks, Complete on LEARN on Wed. March 29, 2023</p>\n",
    "    <p style=\"padding-left: 20px;\"><b>Assignment</b>: 60 marks, Submit to LEARN Dropbox by Fri. March 31, 2023 @ 11:59pm</p>\n",
    "    <p style=\"padding-left: 20px;\"><b>Collaboration Rules</b>: Please read carefully to avoid Policy 71 violations</p>\n",
    "    <ul style=\"padding-left: 50px;\">\n",
    "        <li>Zero collaboration is allowed on the Individual Quiz</li>\n",
    "        <li>Zero collaboration is allowed on the completion of Assignment 10 - all submissions must be unique to each student</li>\n",
    "        <li>Collaboration and support for problem approaches and clarification of problems are allowed on Discord</li>\n",
    "        <li>No code from Assignment 10 is allowed to be shared on Discord or other platforms</li>\n",
    "        <li>Students struggling to understand or debug assignment problems are encouraged to reach out to the instructor at brenda.lee@uwaterloo.ca; and may attach their current work and code to be reviewed</li>\n",
    "    </ul>\n",
    "    <p style=\"padding-left: 20px;\"><b>GOOD LUCK!</p>\n",
    "</div>"
   ]
  },
  {
   "cell_type": "markdown",
   "id": "b824a323",
   "metadata": {},
   "source": [
    "### Question 1 [20 marks] - Experimental Design\n",
    "\n",
    "You are part of a team of scientists exploring a sector of space. You come across a terrestrial planet with a temperate climate and oxygen-nitrogen atmosphere. In fact, your equipment records the planet as 69% water, 102% of Earth's gravity and 99% of Earth's density. You are certain you can land safely and explore the planet. After landing in a forrested area, you realize there is life! You've discovered the Centaurian race, humanoid creatures with blue skin and an average height of 7 feet. Your extraterrestrial translator allows you to communicate easily with them (just accept the fact that it works for the purposes of this exam).  However, you have come at a bad time - they are in the middle of a biological warfare with their enemies, the Builders, who seek to destroy their peaceful world.\n",
    "\n",
    "You pose yourself as an ally to the Centaurian race, and are tasked with helping them design an experiment to test the efficacy of an antidote to the biological weapon the Builders have chosen to use. You are asked to compare three doses of this antidote: 2, 4 and 6 mL. You are also asked to compare four different ways of administering this antidote: oral intake, injection, dermal patch, and inhalation. The longer the antidote stays in the patient's system, the more efficient it is. The only instrument you have access to is a device that can help measure the concentration of the antidote at any point in time within the patient's body. \n",
    "\n",
    "Answer the following questions about designing an experiment to test this antidote:\n",
    "\n",
    "1. [2 marks] What are the variables in this experiment? Are they quantiative or qualitative? \n",
    "2. [3 marks] How many possible treatments can there be by combining the dosage and administration method? Write out all of these and number these treatments (ie. Treatment 1 = 2 mL + injection, Treatment 2 = 2 mL + oral, etc.). Present this as a list for easy grading.\n",
    "3. [6 marks] Create an outline for a completely randomized design for this experiment. Start with a total N number of subjects, who can be broken down in the M groups and given Treatment X. In other words, design the experiment from groups of subjects to treatments to what you are trying to measure and compare. Be specific and explain why for each choice you make to get full marks.\n",
    "4. [3 marks] Determine how many subjects you would like to test. Present a value, and a rationale for your choice. What are the advantages to choosing a larger group of subjects - list at least two advantages.\n",
    "5. [3 marks] It seems like someone else has performed this experiment already and found out that the antidote is known to behave different in adults and children Centaurians. How would you modify your experimental outline in Part 3 to factor this into your experimental design? Update your experimental outline. State only what you would change.\n",
    "6. [3 marks] What statistical test would you use for this experiment? Name one and provide your reasoning behind this.\n",
    "\n",
    "*Note: For all of these questions above, please use markdown cells in the Jupyter notebook*"
   ]
  },
  {
   "cell_type": "markdown",
   "id": "c9b92a4d",
   "metadata": {},
   "source": [
    "### Solution"
   ]
  },
  {
   "cell_type": "markdown",
   "id": "000f2d11",
   "metadata": {},
   "source": [
    "**--- Part 1 ---**"
   ]
  },
  {
   "attachments": {},
   "cell_type": "markdown",
   "id": "b930db06",
   "metadata": {},
   "source": [
    "Independent Variable: Method of dilevery and Dose (2,4,6 mL) ; Method of dilevery is Qualatative, dose is quantative\n",
    "\n",
    "\n",
    "Dependent Variable: Concentration of antidote in the body   ; This is a quantative variable\n",
    "\n",
    "\n"
   ]
  },
  {
   "cell_type": "markdown",
   "id": "fc79cafc",
   "metadata": {},
   "source": [
    "**--- Part 2 ---**"
   ]
  },
  {
   "attachments": {},
   "cell_type": "markdown",
   "id": "87a66d3c",
   "metadata": {},
   "source": [
    "<ol>\n",
    "<li>Treatment 1: 2 mL + injection</li>\n",
    "<li>Treatment 2: 4 mL + injection</li>\n",
    "<li>Treatment 3: 6 mL + injection</li>\n",
    "<li>Treatment 4: 2 mL + oral</li>\n",
    "<li>Treatment 5: 4 mL + oral</li>\n",
    "<li>Treatment 6: 6 mL + oral</li>\n",
    "<li>Treatment 7: 2 mL + dermal patch</li>\n",
    "<li>Treatment 8: 4 mL + dermal patch</li>\n",
    "<li>Treatment 9: 6 mL + dermal patch</li>\n",
    "<li>Treatment 10: 2 mL + inhalation</li>\n",
    "<li>Treatment 11: 4 mL + inhalation</li>\n",
    "<li>Treatment 12: 6 mL + inhalation</li></ol>"
   ]
  },
  {
   "cell_type": "markdown",
   "id": "9ea14434",
   "metadata": {},
   "source": [
    "**--- Part 3 ---**"
   ]
  },
  {
   "attachments": {},
   "cell_type": "markdown",
   "id": "427cbcbf",
   "metadata": {},
   "source": [
    "N = Total number of subjects\n",
    "M = Number of groups, with each group receiving one of the 12 treatments\n",
    "Note: Placebo is not being considered since the question seems to be regarding the efficacy of the drug/how much drug remains in the body\n",
    "<ol>\n",
    "<li>Equally divide N subjects into M groups, number of people in each M group should statistically relevant, for Central limit theorem to apply each M group must have at least 30 subjects. However, if we consider statistical power, significance level and effect size this could be a different number, depending on the specific tests we wold want to run.</li>\n",
    "<li>Randomly assign subjects to one of the M groups.</li>\n",
    "<li>Administer the corresponding treatment to each individual in the different groups</li>\n",
    "<li>Measure the concentration of the antidote at specific time intervals for each indiviudal in each group.</li>\n",
    "<li>Analyze the data to determine whether there are significant differences in the efficacy of the antidote at different doses and administration methods.</li>\n",
    "</ol>"
   ]
  },
  {
   "cell_type": "markdown",
   "id": "d6bf4118",
   "metadata": {},
   "source": [
    "**--- Part 4 ---**"
   ]
  },
  {
   "attachments": {},
   "cell_type": "markdown",
   "id": "fc27e5ca",
   "metadata": {},
   "source": [
    "Since this is happening during a biological warfare, it would be good to keep the number of subjects as small as possible. Statistically we'd want 30 in each group, making it 30*12 = 360 subjects (following the Central Limit Theorem).\n",
    "\n",
    "Alternatively, if we consider one possible answer to last question, two-way ANOVA test we can use a calculator to figure out a sample size. I used StatMate by graph pad (pretty old software not sure if it still exists), for alpha of 0.05, effect size of 0.4 (considered large), and power (1-beta) of 0.8. Groups of 4, with df of 3, the software suggests total sample size of 93, or 143 (depending on how df is defined, 143 if groups =12, and df = 11). Here we can sacrfice the CLT significance of each individual treatment group, for statistical significance accross different treatment modalities (grouping by 4). This would mean each group has 8 subjects (96 total) or 12 subjects (144 total). \n",
    "\n",
    "For the main answer I am going with **360 subjects**\n",
    "\n",
    "Advantages of choosing a larger group:\n",
    "Increased statistical power, which reduces the likelihood of a type II error (false negative).\n",
    "Increased precision of effect size estimates, which reduces the variability in the data and increases the confidence in the results.\n"
   ]
  },
  {
   "cell_type": "markdown",
   "id": "40013c39",
   "metadata": {},
   "source": [
    "**--- Part 5 ---**"
   ]
  },
  {
   "attachments": {},
   "cell_type": "markdown",
   "id": "ef4aa7a3",
   "metadata": {},
   "source": [
    "<ul>\n",
    "<li>Sub categorize the groups into adults and children. </li>\n",
    "<li>Make sure there's equal distribution of adults and children after randomization</li>\n",
    "<li>Separate analysis for children and adults in last step</li>"
   ]
  },
  {
   "cell_type": "markdown",
   "id": "e6b5cfce",
   "metadata": {},
   "source": [
    "**--- Part 6 ---**"
   ]
  },
  {
   "attachments": {},
   "cell_type": "markdown",
   "id": "8eabb6b6",
   "metadata": {},
   "source": [
    "A two way ANOVA test would be an appropriate test for comparing the means of two or more groups. It also accounts for the effects of two independent variables (in this case, dosage and administration method). The two-way ANOVA would also allow us to determine if there is a significant interaction.\n",
    "\n",
    "Alternatively we can also look at depletion rates by doing parameter estimations of the antidote."
   ]
  },
  {
   "cell_type": "markdown",
   "id": "7973f4d0",
   "metadata": {},
   "source": [
    "### Question 2 [28 marks] - Statistical Tests\n",
    "\n",
    "Lex Luthor has unleashed a synthetic plague called the Amazo Virus, derived from Professor Ivo's Amazo android that could mimic metahuman abilities via an artificial enzyme. The Amazo Virus is designed to suppress superpowers (ie. metahuman abilities) so that the world no longer has superheroes. \n",
    "\n",
    "Superheroes with **superstrength** are more prone to being affected by the Amazo Virus as compared to those with **enhanced abilities** such as speed, agility and night vision. The Amazo Virus now accounts for 30% of all superhero neutralizations on the planet, except for a reported 40% in Canada. Note that the Amazo Virus is **not** the only way for superheroes to lose their abilities. Apart from this, it is also reported that about 10% of all superheroes will regain their abilities over the span of 5 years, irrespective of how they have lost their abilities.\n",
    "\n",
    "There is good news, however. Resistance to the Amazo Virus is growing, so there is some hope. The number of superheroes that have regained their abilities is rising steadily from 5% to 10%. But, it has been reported that less than 5% were cured in the United States, and over 10% were cured in India. \n",
    "\n",
    "You are currently a scientist working for LuthorCorp, tasked with performing statistical analysis on the Amazo Virus and the information provided above.\n",
    "\n",
    "== First Analysis ==\n",
    "\n",
    "1. [6 marks] You take a sample of 380 Canadian superheroes and found out that 132 of them had lost their abilities due to the Amazo Virus. **Perform an appropriate test of hypothesis to determine whether the proportion of neutralizations in Canada due to the Amazo Virus has changed.** Test using a significance level of 0.05 and assume a standard deviation of 5%. You may use either the critical-value method or the test-statistic method for hypothesis testing. You must state the null, alternative hypotheses as well as the statistic and p-value for full marks.\n",
    "2. [2 marks] Interpret your results from #1 and state whether the neutralizations due to the Amazo Virus have changed in Canada.\n",
    "\n",
    "== Second Analysis ==\n",
    "\n",
    "3. [2 marks] Let's say you took two independent samples. The following data was obtained:<br>\n",
    "Canada: $n_1 = 250$  |  Number of Neutralizations = $x_1$ = 95<br>\n",
    "Rest of the World: $n_2 = 2800$  |  Number of Neutralizations = $x_2$ = 576\n",
    "You have no preconceived theory that concerns which proportion parameter is the larger and **LuthorCorp only wants you to detect a difference between the two parameters if it exists**. What should you choose as your null and alternative hypothesis for a statistical test?\n",
    "4. [2 marks] What type of error could take place when you are testing the null hypothesis above, if $H_0$ is false?\n",
    "5. [2 marks] Find the standard error of difference between the two sample proportions. Be careful in choosing which values to use for this. Provide an explanation for each value chosen for full marks.\n",
    "6. [6 marks] Calculate the test statistic that you would use for the test here, and find the p-value Based on your knowledge of a standard normal distribution, is this a likely or unlikely observation, assuming $H_0$ is true and the two population proportions are the same? Make sure you're testing for a significant difference between the population proportions at a significance level of 0.01. \n",
    "7. [2 marks] Find the rejection region for a significance level of 0.01. Using the critical value approach, determine whether the data provides sufficient evidence to indicate a difference between the population proportions.\n",
    "\n",
    "== Third Analysis ==\n",
    "\n",
    "8. [6 marks] You want to further **test the claim regarding the proportion of cured superheroes (those who have regained their abilities) in India**. As a result, you collect a random sample of 470 patients, out of which 36 were cured. State the null and alternative hypotheses, find the test statistic and the p-value. Draw conclusions from your results about the claim about India.\n",
    "\n",
    "*Note: You MUST use Python code to answer all the questions. If you choose not to, there will still be part marks given, but not full marks.*"
   ]
  },
  {
   "cell_type": "markdown",
   "id": "79485606",
   "metadata": {},
   "source": [
    "### Solution"
   ]
  },
  {
   "cell_type": "markdown",
   "id": "4ed63598",
   "metadata": {},
   "source": [
    "**--- Part 1 ---**"
   ]
  },
  {
   "cell_type": "code",
   "execution_count": 124,
   "id": "4139e404",
   "metadata": {},
   "outputs": [
    {
     "name": "stdout",
     "output_type": "stream",
     "text": [
      "Test statistic: -2.0942695414584773\n",
      "P-value: 0.036235976006056214\n"
     ]
    }
   ],
   "source": [
    "# Null Hypothesis: The proportion of neutralization due to Amazo Virus has not changed from p = 0.4\n",
    "# Alternate Hypothesis: The proportion of neutralization due to Amazo Virus has changed\n",
    "\n",
    "import numpy as np\n",
    "from scipy.stats import norm\n",
    "\n",
    "n = 380\n",
    "x = 132\n",
    "p = 0.4\n",
    "p_hat = x/n\n",
    "alpha = 0.05\n",
    "se = np.sqrt(p*(1-p)/n)\n",
    "z = (p_hat - p) / se\n",
    "p_value = 2*(1 - norm.cdf(abs(z)))\n",
    "\n",
    "print(f\"Test statistic: {z}\")\n",
    "print(f\"P-value: {p_value}\")\n"
   ]
  },
  {
   "cell_type": "markdown",
   "id": "fb16f701",
   "metadata": {},
   "source": [
    "**--- Part 2 ---**"
   ]
  },
  {
   "cell_type": "code",
   "execution_count": 125,
   "id": "117a3f22",
   "metadata": {},
   "outputs": [
    {
     "name": "stdout",
     "output_type": "stream",
     "text": [
      "Reject the null hypothesis, meaning the proportions have changed from 40%\n"
     ]
    }
   ],
   "source": [
    "if p_value < alpha:\n",
    "    print(\"Reject the null hypothesis, meaning the proportions have changed from 40%\")\n",
    "else:\n",
    "    print(\"Fail to reject the null hypothesis, meaning the proportions are still 40%\")\n"
   ]
  },
  {
   "cell_type": "markdown",
   "id": "3786b6a0",
   "metadata": {},
   "source": [
    "**--- Part 3 ---**"
   ]
  },
  {
   "cell_type": "code",
   "execution_count": 126,
   "id": "caee1621",
   "metadata": {},
   "outputs": [],
   "source": [
    "# Null hypothesis: The population proportions of neutralizations in Canada and Rest of the World are the same\n",
    "# Alternative hypothesis: The population proportions of neutralizations in Canada and Rest of the World are different\n",
    "\n"
   ]
  },
  {
   "cell_type": "markdown",
   "id": "f2c6f12b",
   "metadata": {},
   "source": [
    "**--- Part 4 ---**"
   ]
  },
  {
   "cell_type": "code",
   "execution_count": 127,
   "id": "e64dbd39",
   "metadata": {},
   "outputs": [],
   "source": [
    "# Type I error: Rejecting the null hypothesis when it is actually true\n"
   ]
  },
  {
   "cell_type": "markdown",
   "id": "3960c1f5",
   "metadata": {},
   "source": [
    "**--- Part 5 ---**"
   ]
  },
  {
   "cell_type": "code",
   "execution_count": 128,
   "id": "c0ee7257",
   "metadata": {},
   "outputs": [
    {
     "name": "stdout",
     "output_type": "stream",
     "text": [
      "Standard error between the two population: 0.03163472277626588\n"
     ]
    }
   ],
   "source": [
    "p1 = 95/250  # Sample proportion of neutralizations in Canada\n",
    "p2 = 576/2800  # Sample proportion of neutralizations in Rest of the World\n",
    "se2 = np.sqrt(p1*(1-p1)/250 + p2*(1-p2)/2800)  # Standard error of difference between two sample proportions\n",
    "print(f\"Standard error between the two population: {se2}\")\n"
   ]
  },
  {
   "cell_type": "markdown",
   "id": "12130c58",
   "metadata": {},
   "source": [
    "**--- Part 6 ---**"
   ]
  },
  {
   "cell_type": "code",
   "execution_count": 129,
   "id": "a5057f28",
   "metadata": {},
   "outputs": [
    {
     "name": "stdout",
     "output_type": "stream",
     "text": [
      "Test statistic: 5.509316946392622\n",
      "P-value: 3.60228782801307e-08\n"
     ]
    }
   ],
   "source": [
    "# Test statistic: Z = (p1 - p2) / SE\n",
    "z2 = (p1 - p2) / se2\n",
    "p_value2 = norm.sf(abs(z2)) * 2  # Two-sided p-value\n",
    "print(f\"Test statistic: {z2}\")\n",
    "print(f\"P-value: {p_value2}\")\n",
    "\n"
   ]
  },
  {
   "cell_type": "markdown",
   "id": "71992513",
   "metadata": {},
   "source": [
    "**--- Part 7 ---**"
   ]
  },
  {
   "cell_type": "code",
   "execution_count": 130,
   "id": "b7428a84",
   "metadata": {},
   "outputs": [
    {
     "name": "stdout",
     "output_type": "stream",
     "text": [
      "Rejection region: |Z| > -2.575829303548901\n",
      "Reject H0. There is sufficient evidence to indicate a difference between the population proportions.\n"
     ]
    }
   ],
   "source": [
    "# Rejection region: Reject H0 if |Z| > Z(0.005)\n",
    "z_critical = norm.ppf(0.005)\n",
    "print(f\"Rejection region: |Z| > {z_critical}\")\n",
    "\n",
    "# Decision rule\n",
    "if abs(z2) > z_critical:\n",
    "    print(\"Reject H0. There is sufficient evidence to indicate a difference between the population proportions.\")\n",
    "else:\n",
    "    print(\"Fail to reject H0. There is insufficient evidence to indicate a difference between the population proportions.\")\n"
   ]
  },
  {
   "cell_type": "markdown",
   "id": "2962ece3",
   "metadata": {},
   "source": [
    "**--- Part 8 ---**"
   ]
  },
  {
   "cell_type": "code",
   "execution_count": 131,
   "id": "2df6607d",
   "metadata": {},
   "outputs": [
    {
     "name": "stdout",
     "output_type": "stream",
     "text": [
      "Test statistic: -1.5207764225943068\n",
      "P-value: 0.9358420234836712\n",
      "Reject the null hypothesis. There is sufficient evidence to indicate that the proportion of cured superheroes in India is different from the claimed proportion. Rather insufficient information to support the claim\n"
     ]
    }
   ],
   "source": [
    "from scipy.stats import norm\n",
    "\n",
    "n2 = 470\n",
    "p0 = 0.1\n",
    "x2 = 36\n",
    "\n",
    "# Calculate sample proportion\n",
    "p3 = x2 / n2\n",
    "\n",
    "# Calculate standard error\n",
    "se3 = np.sqrt((p0 * (1 - p0)) / n)\n",
    "\n",
    "# Calculate test statistic\n",
    "z3 = (p3 - p0) / se3\n",
    "\n",
    "# Calculate p-value\n",
    "p_value3 = 1 - norm.cdf(z3)\n",
    "\n",
    "print(f\"Test statistic: {z3}\")\n",
    "print(f\"P-value: {p_value3}\")\n",
    "\n",
    "\n",
    "if p_value < alpha:\n",
    "    print(\"Reject the null hypothesis. There is sufficient evidence to indicate that the proportion of cured superheroes in India is different from the claimed proportion. Rather insufficient information to support the claim\")\n",
    "else:\n",
    "    print(\"Fail to reject the null hypothesis. There is insufficient evidence to indicate that the proportion of cured superheroes in India is different from the claimed proportion.\")\n",
    "# p value is also quite larger\n"
   ]
  },
  {
   "cell_type": "markdown",
   "id": "e6ad376b",
   "metadata": {},
   "source": [
    "### Question 3 [12 marks] - Statistical Modelling\n",
    "\n",
    "The US' National Snow and Ice Data Center monitors the cryosphere and the extent of Arctic sea ice on a regular basis. You are given a huge dataset, provided in A10_Q3.txt. The first column provides the date of measurement while the second column provides the Arctic sea ice extent. Answer the following questions to try and model the yearly trend of ice extent. This is **real data**!\n",
    "\n",
    "1. [4 marks] You may use Excel, Python, or any method you prefer to **organize** this dataset prior to using Python for analysis and plotting. To help out, first organize your dataset by months and do not worry about years or days - you can then categorize everything into 12 groups, one for each month (ie. 01 = \"January\" but *do not use strings or else you'll find it difficult to do the second part*). Once you're done, plot the average ice extent vs. month with error bars for 3 marks. You MUST submit your TXT, CSV or Excel spreadsheet for 1 mark.\n",
    "2. [6 marks] Use Python language to find a suitable model for your dataset. Note that this will be a limited model curve from 0 (beginning of the year) to 12 (end of the year). You must write an if statement or for loop to find a model with a suitable $R^2$ value. Present the model, the parameters, as well as the $R^2$ value.\n",
    "3. [2 marks] Using your model, predict the Arctic sea ice extent for the middle of September."
   ]
  },
  {
   "cell_type": "markdown",
   "id": "08baad6f",
   "metadata": {},
   "source": [
    "### Solution"
   ]
  },
  {
   "cell_type": "markdown",
   "id": "176f0187",
   "metadata": {},
   "source": [
    "**--- Part 1 ---**"
   ]
  },
  {
   "cell_type": "code",
   "execution_count": 132,
   "id": "189fb8c0",
   "metadata": {},
   "outputs": [
    {
     "data": {
      "image/png": "[encoded data removed]",
      "text/plain": [
       "<Figure size 640x480 with 1 Axes>"
      ]
     },
     "metadata": {},
     "output_type": "display_data"
    }
   ],
   "source": [
    "import pandas as pd\n",
    "import matplotlib.pyplot as plt\n",
    "\n",
    "# read the data from the CSV file\n",
    "df = pd.read_csv('A10_Q3_updated.csv')\n",
    "\n",
    "# group the data by category and calculate the mean and standard deviation\n",
    "grouped = df.groupby('Date').agg({'Extent': ['mean', 'std']})\n",
    "grouped.columns = ['Extent_mean', 'Extent_std']\n",
    "\n",
    "# create a bar chart with error bars using object-oriented approach\n",
    "fig, ax = plt.subplots()\n",
    "ax.bar(grouped.index, grouped['Extent_mean'], yerr=grouped['Extent_std'], capsize=10)\n",
    "\n",
    "# set custom tick labels on x-axis\n",
    "ax.set_xticks(grouped.index)\n",
    "ax.set_xticklabels(['Jan', 'Feb', 'Mar', 'Apr', 'May', 'Jun','Jul', 'Aug','Sep','Oct','Nov','Dec'])\n",
    "\n",
    "ax.set_xlabel('Month')\n",
    "ax.set_ylabel('Average Extent (million sq km)')\n",
    "plt.show()\n",
    "\n"
   ]
  },
  {
   "cell_type": "markdown",
   "id": "41683fe7",
   "metadata": {},
   "source": [
    "**--- Part 2 ---**"
   ]
  },
  {
   "cell_type": "code",
   "execution_count": 133,
   "id": "20ba9cc3",
   "metadata": {},
   "outputs": [
    {
     "name": "stdout",
     "output_type": "stream",
     "text": [
      "Polynomial degree 1 R-squared: 0.443\n",
      "Polynomial degree 2 R-squared: 0.611\n",
      "Polynomial degree 3 R-squared: 0.967\n",
      "Polynomial degree 4 R-squared: 0.967\n",
      "Polynomial degree 5 R-squared: 0.990\n",
      "Polynomial degree 6 R-squared: 0.997\n",
      "Polynomial degree 7 R-squared: 0.997\n",
      "Polynomial degree 8 R-squared: 1.000\n",
      "Polynomial degree 9 R-squared: 1.000\n",
      "Polynomial degree 10 R-squared: 1.000\n",
      "Polynomial degree 11 R-squared: 1.000\n",
      "Polynomial degree 12 R-squared: 1.000\n",
      "Polynomial degree 13 R-squared: 1.000\n",
      "Polynomial degree 14 R-squared: 1.000\n",
      "Polynomial degree 15 R-squared: 1.000\n",
      "Polynomial degree 16 R-squared: 1.000\n",
      "Polynomial degree 17 R-squared: 1.000\n",
      "Polynomial degree 18 R-squared: 1.000\n",
      "Polynomial degree 19 R-squared: 1.000\n"
     ]
    },
    {
     "name": "stderr",
     "output_type": "stream",
     "text": [
      "c:\\ProgramData\\Anaconda3\\lib\\site-packages\\IPython\\core\\interactiveshell.py:3457: RankWarning: Polyfit may be poorly conditioned\n",
      "  exec(code_obj, self.user_global_ns, self.user_ns)\n",
      "c:\\ProgramData\\Anaconda3\\lib\\site-packages\\IPython\\core\\interactiveshell.py:3457: RankWarning: Polyfit may be poorly conditioned\n",
      "  exec(code_obj, self.user_global_ns, self.user_ns)\n",
      "c:\\ProgramData\\Anaconda3\\lib\\site-packages\\IPython\\core\\interactiveshell.py:3457: RankWarning: Polyfit may be poorly conditioned\n",
      "  exec(code_obj, self.user_global_ns, self.user_ns)\n",
      "c:\\ProgramData\\Anaconda3\\lib\\site-packages\\IPython\\core\\interactiveshell.py:3457: RankWarning: Polyfit may be poorly conditioned\n",
      "  exec(code_obj, self.user_global_ns, self.user_ns)\n",
      "c:\\ProgramData\\Anaconda3\\lib\\site-packages\\IPython\\core\\interactiveshell.py:3457: RankWarning: Polyfit may be poorly conditioned\n",
      "  exec(code_obj, self.user_global_ns, self.user_ns)\n",
      "c:\\ProgramData\\Anaconda3\\lib\\site-packages\\IPython\\core\\interactiveshell.py:3457: RankWarning: Polyfit may be poorly conditioned\n",
      "  exec(code_obj, self.user_global_ns, self.user_ns)\n",
      "c:\\ProgramData\\Anaconda3\\lib\\site-packages\\IPython\\core\\interactiveshell.py:3457: RankWarning: Polyfit may be poorly conditioned\n",
      "  exec(code_obj, self.user_global_ns, self.user_ns)\n",
      "c:\\ProgramData\\Anaconda3\\lib\\site-packages\\IPython\\core\\interactiveshell.py:3457: RankWarning: Polyfit may be poorly conditioned\n",
      "  exec(code_obj, self.user_global_ns, self.user_ns)\n"
     ]
    },
    {
     "data": {
      "image/png": "[encoded data removed]",
      "text/plain": [
       "<Figure size 640x480 with 1 Axes>"
      ]
     },
     "metadata": {},
     "output_type": "display_data"
    }
   ],
   "source": [
    "import numpy as np\n",
    "import matplotlib.pyplot as plt\n",
    "from sklearn.metrics import r2_score\n",
    "\n",
    "# fit polynomial curves of different degrees and select the best one based on R-squared\n",
    "best_r_squared = 0\n",
    "best_degree = 0\n",
    "best_params = []\n",
    "for degree in range(1, 20): \n",
    "    # fit polynomial curve\n",
    "    p = np.polyfit(grouped.index, grouped['Extent_mean'], degree)\n",
    "    y_pred = np.polyval(p, grouped.index)\n",
    "    r_squared = r2_score(grouped['Extent_mean'], y_pred)\n",
    "    print(f'Polynomial degree {degree} R-squared: {r_squared:.3f}')\n",
    "    \n",
    "    # update best model if current one is better\n",
    "    if r_squared > best_r_squared and r_squared <0.98:  # if this limit is not set the iteration can go on forever, \n",
    "                                                        #higher order may have more accurate r_squared values\n",
    "        best_r_squared = r_squared\n",
    "        best_degree = degree\n",
    "        best_params = p\n",
    "\n",
    "# plot the best polynomial curve\n",
    "fig2, ax2 = plt.subplots()\n",
    "x_range = np.linspace(0, 11, 100)\n",
    "y_pred = np.polyval(best_params, x_range)\n",
    "ax2.plot(x_range, y_pred, color='red', label=f'Polynomial degree {best_degree}')\n",
    "ax2.bar(grouped.index-1, grouped['Extent_mean'], yerr=grouped['Extent_std'], capsize=10)\n",
    "# add legend to the plot\n",
    "ax2.legend()\n",
    "plt.show()\n",
    "\n"
   ]
  },
  {
   "cell_type": "code",
   "execution_count": 134,
   "id": "f2130392",
   "metadata": {},
   "outputs": [
    {
     "data": {
      "text/plain": [
       "\"\\n# define the sinusoidal function to fit\\ndef sinusoidal_func(x, a, b, c, d):\\n    return a * np.sin(b * x + c) + d\\n\\n# set initial values for parameters\\na_init = 0\\nb_init = 2 * np.pi / 12\\nc_init = 0\\nd_init = grouped['Extent_mean'].mean()\\n\\n# fit sinusoidal curve with different parameter values\\nbest_r_squared = 0\\nbest_params = []\\nfor a in np.linspace(0, 200, 20):\\n    for b in np.linspace(0, 2, 30):\\n        for c in np.linspace(0, 2 * np.pi, 20):\\n            for d in np.linspace(grouped['Extent_mean'].min(), grouped['Extent_mean'].max(), 20):\\n                y_pred = sinusoidal_func(grouped.index, a, b, c, d)\\n                r_squared = r2_score(grouped['Extent_mean'], y_pred)\\n\\n                # update best model if current one is better\\n                if r_squared > best_r_squared and r_squared<0.98:\\n                    best_r_squared = r_squared\\n                    best_params = [a, b, c, d]\""
      ]
     },
     "execution_count": 134,
     "metadata": {},
     "output_type": "execute_result"
    }
   ],
   "source": [
    "# I tried a sinusoidal model, which didn't work and I don't want to spend more time on it\n",
    "'''\n",
    "# define the sinusoidal function to fit\n",
    "def sinusoidal_func(x, a, b, c, d):\n",
    "    return a * np.sin(b * x + c) + d\n",
    "\n",
    "# set initial values for parameters\n",
    "a_init = 0\n",
    "b_init = 2 * np.pi / 12\n",
    "c_init = 0\n",
    "d_init = grouped['Extent_mean'].mean()\n",
    "\n",
    "# fit sinusoidal curve with different parameter values\n",
    "best_r_squared = 0\n",
    "best_params = []\n",
    "for a in np.linspace(0, 200, 20):\n",
    "    for b in np.linspace(0, 2, 30):\n",
    "        for c in np.linspace(0, 2 * np.pi, 20):\n",
    "            for d in np.linspace(grouped['Extent_mean'].min(), grouped['Extent_mean'].max(), 20):\n",
    "                y_pred = sinusoidal_func(grouped.index, a, b, c, d)\n",
    "                r_squared = r2_score(grouped['Extent_mean'], y_pred)\n",
    "\n",
    "                # update best model if current one is better\n",
    "                if r_squared > best_r_squared and r_squared<0.98:\n",
    "                    best_r_squared = r_squared\n",
    "                    best_params = [a, b, c, d]'''\n",
    "\n"
   ]
  },
  {
   "cell_type": "code",
   "execution_count": 135,
   "id": "8298a1c6",
   "metadata": {},
   "outputs": [
    {
     "data": {
      "text/plain": [
       "\"# plot the best sinusoidal curve\\nfig3, ax3 = plt.subplots()\\ny_pred = sinusoidal_func(grouped.index-1, *best_params)\\nax3.plot(grouped.index-1, y_pred, color='red', label='Sinusoidal fit')\\nax3.bar(grouped.index-1, grouped['Extent_mean'], yerr=grouped['Extent_std'], capsize=10)\\n# add legend to the plot\\nax3.legend()\\n\\n# show the plot\\nplt.show()\\n\\n# output the best parameters and R-squared value\\nprint(f'Best parameters: {best_params}')\\nprint(f'Sinusoidal fit R-squared: {best_r_squared:.3f}')\\n\""
      ]
     },
     "execution_count": 135,
     "metadata": {},
     "output_type": "execute_result"
    }
   ],
   "source": [
    "'''# plot the best sinusoidal curve\n",
    "fig3, ax3 = plt.subplots()\n",
    "y_pred = sinusoidal_func(grouped.index-1, *best_params)\n",
    "ax3.plot(grouped.index-1, y_pred, color='red', label='Sinusoidal fit')\n",
    "ax3.bar(grouped.index-1, grouped['Extent_mean'], yerr=grouped['Extent_std'], capsize=10)\n",
    "# add legend to the plot\n",
    "ax3.legend()\n",
    "\n",
    "# show the plot\n",
    "plt.show()\n",
    "\n",
    "# output the best parameters and R-squared value\n",
    "print(f'Best parameters: {best_params}')\n",
    "print(f'Sinusoidal fit R-squared: {best_r_squared:.3f}')\n",
    "'''"
   ]
  },
  {
   "cell_type": "markdown",
   "id": "81cbb59b",
   "metadata": {},
   "source": [
    "**--- Part 3 ---**"
   ]
  },
  {
   "cell_type": "code",
   "execution_count": 136,
   "id": "e182239f",
   "metadata": {},
   "outputs": [
    {
     "name": "stdout",
     "output_type": "stream",
     "text": [
      "Predicted Arctic sea ice extent for middle of September: 7.07 million sq km\n"
     ]
    }
   ],
   "source": [
    "import numpy as np\n",
    "\n",
    "# Evaluate the polynomial at x=9.5 (middle of September)\n",
    "sept_extent = np.polyval(best_params, 9.5)\n",
    "print(f\"Predicted Arctic sea ice extent for middle of September: {sept_extent:.2f} million sq km\")\n"
   ]
  }
 ],
 "metadata": {
  "kernelspec": {
   "display_name": "Python 3",
   "language": "python",
   "name": "python3"
  },
  "language_info": {
   "codemirror_mode": {
    "name": "ipython",
    "version": 3
   },
   "file_extension": ".py",
   "mimetype": "text/x-python",
   "name": "python",
   "nbconvert_exporter": "python",
   "pygments_lexer": "ipython3",
   "version": "3.9.13"
  }
 },
 "nbformat": 4,
 "nbformat_minor": 5
}
