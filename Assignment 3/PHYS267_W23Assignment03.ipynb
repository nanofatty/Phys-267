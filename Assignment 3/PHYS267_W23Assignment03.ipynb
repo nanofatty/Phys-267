{
 "cells": [
  {
   "cell_type": "markdown",
   "id": "49d216a1",
   "metadata": {},
   "source": [
    "# PHYS 267 - Assignment 3\n",
    "###### Last Updated: Jan 30, 2023 by Dr. Brenda Lee\n",
    "***\n",
    "\n",
    "<font color='red'>*Important*: Remember to **show ALL your work and thought process for these problems**. Please also answer subquestions in separate cells for easier grading for the TAs. Long explanations should be in a markdown cell; short explanations (if using code) can be comments.\n",
    "    \n",
    "All final answers must be reported as an output (by running code or in a separate markdown cell) and not as comments. This allows the TAs to find your answers more easily.</font>"
   ]
  },
  {
   "cell_type": "markdown",
   "id": "70463dcb",
   "metadata": {},
   "source": [
    "### Question 1\n",
    "\n",
    "You are taking the hardest course on campus for an entire term (assume you take this course every single day, even on weekends). A group of students decide to see whether napping at set times during the day would improve their grades. 10 people followed this prescribed regimen and were observed for a period of one term. 8 students survived one term without failing. Let's say the probability of passing this course is 0.5 when someone doesn't nap. What is the probability of observing 8 or more successful students, given that napping is ineffective in improving grades due to its 0.5 probability? Show all your work and state which distribution this is.\n",
    "\n",
    "Total Marks: 6"
   ]
  },
  {
   "cell_type": "markdown",
   "id": "7b56e65c",
   "metadata": {},
   "source": [
    "#### Q1 Solution"
   ]
  },
  {
   "attachments": {},
   "cell_type": "markdown",
   "id": "ed502334",
   "metadata": {},
   "source": [
    "Impliction of last couple lines means that probability of passing is 0.5, regardless of nap or no nap. Or in other words independent of it, and just looking at the probability of 8 or more people passing in general. We can use binomial distribution.\n"
   ]
  },
  {
   "cell_type": "code",
   "execution_count": 1,
   "id": "22235f3f",
   "metadata": {},
   "outputs": [
    {
     "name": "stdout",
     "output_type": "stream",
     "text": [
      "The probability of 8 or more students passing is 0.05468749999999997\n"
     ]
    }
   ],
   "source": [
    "from scipy.stats import binom\n",
    "k = 8\n",
    "n = 10\n",
    "p = 0.5\n",
    "\n",
    "print(\"The probability of 8 or more students passing is\",binom.pmf(k, n, p)+binom.sf(k, n, p)) # sf is same as 1-cdf documentation claims it is more accurate\n",
    "\n",
    "\n",
    "\n",
    "\n"
   ]
  },
  {
   "cell_type": "markdown",
   "id": "f08d0513",
   "metadata": {},
   "source": [
    "### Question 2\n",
    "\n",
    "Consider a Poisson random variable $X$ with $\\mu=3$. Use the Poisson formula to calculate the following probabilities and to answer the following questions. It is expected that you use Python code to help solve for these.\n",
    "\n",
    "1. $P(X=0)$\n",
    "2. $P(X=1)$\n",
    "3. $P(X>1)$\n",
    "4. $P(X\\le3)$\n",
    "5. $P(3\\le X \\le 5)$\n",
    "6. Plot the PMF as a histogram or bar chart with at least 10 bins and 100 values\n",
    "\n",
    "Total Marks: 15"
   ]
  },
  {
   "cell_type": "markdown",
   "id": "879941bb",
   "metadata": {},
   "source": [
    "#### Q2.1 Solution"
   ]
  },
  {
   "cell_type": "code",
   "execution_count": 2,
   "id": "9b9f0225",
   "metadata": {},
   "outputs": [
    {
     "name": "stdout",
     "output_type": "stream",
     "text": [
      "0.049787068367863944\n"
     ]
    }
   ],
   "source": [
    "from scipy.stats import poisson\n",
    "\n",
    "μ = 3\n",
    "\n",
    "pd1= poisson.pmf(0, μ)\n",
    "\n",
    "print(pd1)\n"
   ]
  },
  {
   "cell_type": "markdown",
   "id": "102db743",
   "metadata": {},
   "source": [
    "#### Q2.2 Solution"
   ]
  },
  {
   "cell_type": "code",
   "execution_count": 3,
   "id": "fc2709b7",
   "metadata": {},
   "outputs": [
    {
     "name": "stdout",
     "output_type": "stream",
     "text": [
      "0.22404180765538775\n"
     ]
    }
   ],
   "source": [
    "pd2= poisson.pmf(2, μ)\n",
    "print(pd2)\n"
   ]
  },
  {
   "cell_type": "markdown",
   "id": "9f596b74",
   "metadata": {},
   "source": [
    "#### Q2.3 Solution"
   ]
  },
  {
   "cell_type": "code",
   "execution_count": 4,
   "id": "118696c4",
   "metadata": {},
   "outputs": [
    {
     "name": "stdout",
     "output_type": "stream",
     "text": [
      "0.8008517265285442\n"
     ]
    }
   ],
   "source": [
    "pd3 = 1-poisson.cdf(1,μ)\n",
    "print(pd3)"
   ]
  },
  {
   "cell_type": "markdown",
   "id": "062a3dac",
   "metadata": {},
   "source": [
    "#### Q2.4 Solution"
   ]
  },
  {
   "cell_type": "code",
   "execution_count": 5,
   "id": "13170bb0",
   "metadata": {},
   "outputs": [
    {
     "name": "stdout",
     "output_type": "stream",
     "text": [
      "0.6472318887822313\n"
     ]
    }
   ],
   "source": [
    "pd4 = poisson.cdf(3,μ)\n",
    "print(pd4)\n"
   ]
  },
  {
   "cell_type": "markdown",
   "id": "11fc149d",
   "metadata": {},
   "source": [
    "#### Q2.5 Solution"
   ]
  },
  {
   "cell_type": "code",
   "execution_count": 6,
   "id": "da747273",
   "metadata": {},
   "outputs": [
    {
     "name": "stdout",
     "output_type": "stream",
     "text": [
      "0.2688501691864653\n"
     ]
    }
   ],
   "source": [
    "pd5 = poisson.cdf(5,μ) - poisson.cdf(3,μ)\n",
    "print(pd5)"
   ]
  },
  {
   "cell_type": "markdown",
   "id": "759eb233",
   "metadata": {},
   "source": [
    "#### Q2.6 Solution"
   ]
  },
  {
   "cell_type": "code",
   "execution_count": 7,
   "id": "7e7e9800",
   "metadata": {},
   "outputs": [
    {
     "data": {
      "image/png": "[encoded data removed]",
      "text/plain": [
       "<Figure size 640x480 with 1 Axes>"
      ]
     },
     "metadata": {},
     "output_type": "display_data"
    }
   ],
   "source": [
    "import matplotlib.pyplot as plt, numpy as np\n",
    "μ = 3\n",
    "x = np.arange(0,15,0.5)\n",
    "y = poisson.pmf(x,μ)\n",
    "\n",
    "plt.bar(x, y, color = \"yellow\", edgecolor = \"blue\")\n",
    "plt.title(\"Poisson PMF for μ  = 3\")\n",
    "plt.xlabel(\"X\")\n",
    "plt.ylabel(\"P(X)\")\n",
    "plt.show()"
   ]
  },
  {
   "cell_type": "markdown",
   "id": "f3949358",
   "metadata": {},
   "source": [
    "### Question 3\n",
    "\n",
    "The discharge of suspended solids from a phosphate mine is normally distributed, with a mean daily discharge of 18 milligrams per litre (mg/L) and a standard deviation of 12 mg/L. What proportion of days will the daily discharge exceed 43 mg/L?\n",
    "\n",
    "Total Marks: 6"
   ]
  },
  {
   "cell_type": "markdown",
   "id": "4a172103",
   "metadata": {},
   "source": [
    "#### Solution"
   ]
  },
  {
   "cell_type": "code",
   "execution_count": 8,
   "id": "cb2f04d7",
   "metadata": {},
   "outputs": [
    {
     "name": "stdout",
     "output_type": "stream",
     "text": [
      "0.018610425189886332\n"
     ]
    }
   ],
   "source": [
    "from scipy.stats import norm\n",
    "mu = 18\n",
    "sigma = 12\n",
    "x = 43\n",
    "\n",
    "# for P(X>43) we can use 1- normal cdf or sf (sf is 1-cdf)\n",
    "PDischarge = norm.sf(x, mu, sigma)\n",
    "print(PDischarge)"
   ]
  },
  {
   "cell_type": "markdown",
   "id": "39665050",
   "metadata": {},
   "source": [
    "### Question 4\n",
    "\n",
    "Your pulse rate is a measure of the number of heartbeats per minute. A normal pulse rate is between 60 and 100 beats per minute for children over 10 and adults. Assume that these pulse rates are distributed normally with a mean of 78 and a standard deviation of 12. Answer the following questions.\n",
    "\n",
    "1. What proportion of adults will have pulse rates between 60 and 100? [5 marks]\n",
    "2. What is the 95% percentile for the pulse rates of adults? [4 marks]\n",
    "3. Would a pulse rate of 110 be considered unusual? Explain. [2 marks]\n",
    "4. Plot this distribution. Show your work, explain your steps, and label everything. [6 marks]\n",
    "\n",
    "Total Marks: 17"
   ]
  },
  {
   "cell_type": "markdown",
   "id": "02b6faa1",
   "metadata": {},
   "source": [
    "#### Q4.1 Solution"
   ]
  },
  {
   "cell_type": "code",
   "execution_count": 9,
   "id": "9e69690a",
   "metadata": {},
   "outputs": [
    {
     "name": "stdout",
     "output_type": "stream",
     "text": [
      "Probability of pulse rates between 60 and 100 is: 0.8998162911463247\n"
     ]
    }
   ],
   "source": [
    "Pmu = 78\n",
    "Psigma = 12\n",
    "\n",
    "P_60_100= norm.cdf(100, Pmu, Psigma) - norm.cdf(60, Pmu, Psigma)\n",
    "print(\"Probability of pulse rates between 60 and 100 is:\", P_60_100)"
   ]
  },
  {
   "cell_type": "markdown",
   "id": "634112aa",
   "metadata": {},
   "source": [
    "#### Q4.2 Solution"
   ]
  },
  {
   "cell_type": "code",
   "execution_count": 10,
   "id": "16186a34",
   "metadata": {},
   "outputs": [
    {
     "name": "stdout",
     "output_type": "stream",
     "text": [
      "The 95 percentile value for pulsee rates: 97.73824352341767\n"
     ]
    }
   ],
   "source": [
    "#ppf is the inverse of cdf, hence using ppf we get\n",
    "\n",
    "P95 = norm.ppf(0.95, Pmu, Psigma)\n",
    "print(\"The 95 percentile value for pulsee rates:\",P95)"
   ]
  },
  {
   "cell_type": "markdown",
   "id": "d7c35af6",
   "metadata": {},
   "source": [
    "#### Q4.3 Solution"
   ]
  },
  {
   "attachments": {},
   "cell_type": "markdown",
   "id": "5c89e43b",
   "metadata": {},
   "source": [
    "yes 110bpm would be considered unusual since it's much higher than even the 95th percentile which is 97.7bpm. even with mean+std we get 90bpm which less that 95 percentile (as expected) which is less than 110bpm.\n"
   ]
  },
  {
   "cell_type": "code",
   "execution_count": 11,
   "id": "73fc8eb9",
   "metadata": {},
   "outputs": [
    {
     "data": {
      "text/plain": [
       "0.9961696194324102"
      ]
     },
     "execution_count": 11,
     "metadata": {},
     "output_type": "execute_result"
    }
   ],
   "source": [
    "norm.cdf(110, Pmu,Psigma)"
   ]
  },
  {
   "cell_type": "markdown",
   "id": "ae336f43",
   "metadata": {},
   "source": [
    "#### Q4.4 Solution"
   ]
  },
  {
   "cell_type": "code",
   "execution_count": 12,
   "id": "5d18c073",
   "metadata": {},
   "outputs": [
    {
     "data": {
      "image/png": "[encoded data removed]",
      "text/plain": [
       "<Figure size 640x480 with 1 Axes>"
      ]
     },
     "metadata": {},
     "output_type": "display_data"
    }
   ],
   "source": [
    "X_p = np.linspace(0, 120)\n",
    "pdf = norm.pdf(X_p, Pmu, Psigma)\n",
    "\n",
    "plt.plot(X_p, pdf, 'b', label='PDF')\n",
    "plt.xlabel('Pulse rate (beats per minute)')\n",
    "plt.ylabel('Probability Density')\n",
    "plt.title('Normal distribution of pulse rate (mean=78, std_dev=12)')\n",
    "plt.legend()\n",
    "plt.show()"
   ]
  }
 ],
 "metadata": {
  "kernelspec": {
   "display_name": "base",
   "language": "python",
   "name": "python3"
  },
  "language_info": {
   "codemirror_mode": {
    "name": "ipython",
    "version": 3
   },
   "file_extension": ".py",
   "mimetype": "text/x-python",
   "name": "python",
   "nbconvert_exporter": "python",
   "pygments_lexer": "ipython3",
   "version": "3.9.13"
  },
  "vscode": {
   "interpreter": {
    "hash": "ad2bdc8ecc057115af97d19610ffacc2b4e99fae6737bb82f5d7fb13d2f2c186"
   }
  }
 },
 "nbformat": 4,
 "nbformat_minor": 5
}
