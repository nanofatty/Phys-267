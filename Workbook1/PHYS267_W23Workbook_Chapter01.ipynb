{
 "cells": [
  {
   "cell_type": "markdown",
   "id": "5e7f95bf",
   "metadata": {},
   "source": [
    "# PHYS 267 - Chapter 1<br><font color='blue'>Overview of Probability, Statistics and Data Analysis</font>\n",
    "###### Last Updated: Jan 9, 2023 by Dr. Brenda Lee\n",
    "***"
   ]
  },
  {
   "cell_type": "markdown",
   "id": "fa7c2461",
   "metadata": {},
   "source": [
    "### <font color=\"blue\">1.1 Course Overview</font>\n",
    "\n",
    "Welcome to PHYS 267: Probability, Statistics and Data Analysis for Physics & Astronomy! Like the name of the course, we are going to explore probability, statistics and data analysis with examples in Physics & Astronomy - exactly in that order. The concepts and tools that are taught within this course are critical to your future as a scientist because they allow you to analyze and interpret the uncertainty of data from various sources. \n",
    "\n",
    "The range of topics we will cover in this course are provided in the course description:\n",
    "\n",
    "<div class=\"alert alert-block alert-info\">Probability, probability distributions, errors, descriptive statistics, statistical inference (hypothesis testing, fitting, confidence intervals), computational methods (e.g. Monte Carlo), examples from Physics and Astronomy.</div>\n",
    "\n",
    "At first glance, this looks like a probability and statistics course (which is why the antirequisites are STAT 230 Probability, STAT 231 Statistics). But, this course is more that that! Instead of focusing on the derivations and proofs of statistical methods (which we will still cover in brief), we want to be able to apply these methods to real-world problems in Physics and Astronomy, and take advantage of the Python programming language to do so. This is why a course in Python programming or computer science (PHYS 236 or CS 116) serves as a prerequisite to this course; and knowledge of various fields of Physics (PHYS 122) and concepts in Calculus (MATH 227) are also prerequisites to help us apply programming knowledge to Physics and Astronomy problems related to data analysis. "
   ]
  },
  {
   "cell_type": "markdown",
   "id": "81141d22",
   "metadata": {},
   "source": [
    "### <font color=\"blue\">1.2 Course Structure and Deliverables</font>\n",
    "\n",
    "There is a very detailed course outline and schedule that you should read via the LEARN homepage. TL;DR? I'd still read it to be safe 😉. But, it doesn't mean I won't summarize it for you here.\n",
    "\n",
    "This course was designed and developed to help you learn at your own pace with guidance and support from the teaching team throughout the week to help you stay on track. Here's a brief weekly schedule to help you organize your time:\n",
    "\n",
    "<div class=\"alert alert-block alert-success\">📅 <b>Weekly Schedule</b>:<br>\n",
    "    <p style=\"padding-left: 20px;\"><b>Beginning of Week</b>: Read these Jupyter notebook chapters alongside the pre-recorded lectures. Try the practice problems yourself and test your knowledge of previous week's content by doing a Readiness Quiz (completion grades only).</p>\n",
    "    <p style=\"padding-left: 20px;\"><b>Middle of Week</b>: Start your weekly assignment and attend the Thursday in-person lecture and/or Friday online WebEx tutorial for help with practice problems and assignment clarification.</p>\n",
    "    <p style=\"padding-left: 20px;\"><b>End of Week</b>: Submit your completed workbooks (for completion grades) and assignments (to be graded numerically by the teaching team)</p>\n",
    "    <p style=\"padding-left: 20px;\"><b>Throughout the Term</b>: Review term project guidelines and work on your project (Individual or Groups of 2-3).</p>\n",
    "</div>\n",
    "\n",
    "The grades are distributed as follows:\n",
    "\n",
    "<div class=\"alert alert-block alert-danger\">⭐ <b>Key Deliverables and Grade Distribution</b>:<br>\n",
    "    <p style=\"padding-left: 20px;\"><b>Readiness Quizzes</b>: 5% - Completion Only</p>\n",
    "    <p style=\"padding-left: 20px;\"><b>Workbooks</b>: 5% - Completion/Correctness</p>\n",
    "    <p style=\"padding-left: 20px;\"><b>Assignments</b>: 15%</p>\n",
    "    <p style=\"padding-left: 20px;\"><b>Midterm Assessment</b>: 25%</p>\n",
    "    <p style=\"padding-left: 20px;\"><b>Final Assessment</b>: 25%</p>\n",
    "    <p style=\"padding-left: 20px;\"><b>Data Analysis in Physics &amp; Astronomy Term Project</b>: 25% + 3% bonus</p>\n",
    "</div>\n",
    "\n",
    "Some important dates to take into consideration:\n",
    "- Midterm Assessment will take place around Week 7-8 - no gradable quizzes/assignments that week\n",
    "- Final Assessment will take place in the 2nd last week of classes  - no gradable quizzes/assignments that week\n",
    "- Term Project due on the last day of classes, no exception"
   ]
  },
  {
   "cell_type": "markdown",
   "id": "75db7ea8",
   "metadata": {},
   "source": [
    "### <font color=\"blue\">1.3 Resources for the Class</font>\n",
    "\n",
    "Typical course resources include textbooks and notes. There are no required textbooks for this course, but rather chapter notes written by your instructor. If you do want additional resources, here are some free and paid textbooks that you may find helpful:\n",
    "\n",
    "<div class=\"alert alert-block alert-success\">📚 <b>Textbooks</b>:<br>\n",
    "    <p style=\"padding-left: 20px;\"><b>Think Stats, 2e by Allen B. Downey</b>: Introductory overview of statistics with examples in Python.<br><a href=\"https://greenteapress.com/thinkstats/html/index.html\">HTML Link</a> | <a href=\"http://thinkstats.com/thinkstats.pdf\">PDF Link</a></p>\n",
    "    <p style=\"padding-left: 20px;\"><b>Think Bayes, 2e by Allen B. Downey</b>: More focus on computational methods to Bayesian statistics.<br><a href=\"http://allendowney.github.io/ThinkBayes2/\">HTML Link with Jupyter Notebook Downloads</a></p>\n",
    "    <p style=\"padding-left: 20px;\"><b>Python for Probability, Statistics, and Machine Learning, 2e</b>: Detailed examples of applying Python to probability and statistics</p>\n",
    "    <p style=\"padding-left: 20px;\"><b>An Introduction to Statistics with Python: with Applications in the Life Sciences by Thomas Haslwanter</b>: Advanced applications of data analysis for experimentalists.</p>\n",
    "</div>\n",
    "\n",
    "A key part to learning is the learning environment. We want the entire PHYS 267 class to be a part of our community and feel supported throughout the term. As a result, we have created a Discord server (backend built partially with Python!) to help you discuss concepts with your peers and teaching team, as well as submit confidential tickets to share your concerns with the teaching team directly. Office hours will be available throughout the term upon request.\n",
    "\n",
    "<div class=\"alert alert-block alert-success\">💬 <b>Regular Support via Discord/Email/Office Hours</b>:<br>\n",
    "    <p style=\"padding-left: 20px;\"><b>Join Discord</b>: You will have to verify your University of Waterloo student status after you join the PHYS 267 Discord - check LEARN for the invite link.</p>\n",
    "    <p style=\"padding-left: 20px;\"><b>Connect with Others; Ask Questions</b>: There are various channels to help you engage with your classmates, whether it be through discussions of course topics or just regular social chat. Please be respectful and kind to everyone as the channels will be moderated by the teaching team.</p>\n",
    "    <p style=\"padding-left: 20px;\"><b>Confidential Ticketing System</b>: Do you have problems with how an assignment was graded? Or something to share with the teaching team you'd like to keep private? Create a ticket that only the teaching team can see, and they'll get back to you as soon as they can. <i>Please do not DM your instructor and teaching assistants!</i></p>\n",
    "    <p style=\"padding-left: 20px;\"><b>Can't Join Discord? Use Email!</b> There may be students who are unable to or do not wish to join Discord. This is perfectly fine. In place of Discord, please use email and alternative modes of communication to connect with your teaching team and your peers if you wish to work with them on your group project.</p>\n",
    "    <p style=\"padding-left: 20px;\"><b>In-Person or Online Office Hours</b>: If you would like additional support, please email your instructor and teaching team to set up regular office hours or make a one-off appointment with them.</p>\n",
    "</div>"
   ]
  },
  {
   "cell_type": "markdown",
   "id": "835720ba",
   "metadata": {},
   "source": [
    "### <font color=\"blue\">1.4 Jupyter Notebook and Python Packages</font>\n",
    "\n",
    "#### 1.4.1 Why Python? \n",
    "\n",
    "The prerequisite for this course includes programming experience. Whether you have experience in Python, Java, C, R or any other language, that knowledge will be very handy in applying computational techniques to data analysis from different fields. But for this course, we're sticking with the Python programming language because of various reasons:\n",
    "- It's free and extremely versatile/powerful for various applications! You can use Matlab, SPSS as alternatives for statistics and data analysis, but they are quite expensive and narrow-focused\n",
    "- It's an easy-to-understand, beautiful coding language that doesn't require serious coding efforts\n",
    "- It's got an ever-evolving community of coders that offer packages of functions that can be used for various applications (statistics, data visualization, machine learning, etc.)\n",
    "\n",
    "If you need to quickly brush up your skills on Python, there are some resources at the end of this chapter as well as practice problems to help you get reacquainted with this programming language's syntax and structure.\n",
    "\n",
    "#### 1.4.2 Jupyter Notebook\n",
    "\n",
    "Jupyter Notebook is a free, open-source and interactive web tool that is widely known as a **computational notebook**, allowing for a mixture of markdown (regular text), software code (like Python and LaTeX), computational output (results from your code) and multimedia resources to be shown in one document. This makes it an excellent resource for delivering course notes, sample problems and explanations.\n",
    "\n",
    "For PHYS 267, your course notes will be delivered through Jupyter Notebook as .IPYNB files, which you can download and open through your own local install of Jupyter Notebook or online through <a href=\"https://colab.research.google.com/\">Google Colab</a>. Please seek help at the beginning of the term if you are having difficulties opening/viewing these files as they are critical for your progression throughout this course.\n",
    "\n",
    "#### 1.4.3 Using Python for Probability, Statistics and Data Analysis\n",
    "\n",
    "When it comes to probability, statistics and data analysis, we are given two options: (a) do it manually, or (b) do it with help from external resources like Python. When it comes to teaching these topics, we cannot ignore one or the other - we  must cover both. It is through understanding how these tools came to be that we can truly understand how to apply different packages and modules from Python to achieve our goal, and to differentiate between functions and pick the right one for our analysis. By the end of this course, you should be able to leverage readily-available Python packages and pick appropriate methods of data analysis for various applicatios in Physics and Astronomy.\n",
    "\n",
    "Python alone only contains the essential features of a general programming language. So when you download Python, you will need packages to help facilitate your use of this language. To make things easier, there are various *Python distributions* that are readily available for you to download and install on your computer. One such example is Anaconda, which installs Python as well as a bunch of libraries, tools and packages alongside your main Python implementation. The key terms here are as follows:\n",
    "- A Python *implementation* is a program that supports the execution of programs written in the Python language\n",
    "- A Python *package* contains a collection of modules and functions that can be used for specific purposes\n",
    "- A Python *distribution* includes a Python implementation and various Python packages so that allow you to use Python right away without the need to individually install separate packages (though you still may need to in the future if you want additional features not included in the original distribution)\n",
    "\n",
    "When working with probability, statistics and data analysis, here are some popular packages and libraries that we will be covering throughout the course. If you already installed Python via Anaconda, you should have these already:\n",
    "- **`NumPy`**: allows us to work with vectors and arrays\n",
    "- **`SciPy`**: allows us to access essential scientific algorithms, including ones for basic statistics\n",
    "- **`Matplotlib`**: allows us to plot and visualize data\n",
    "- **`Pandas`**: allows us to work with *DataFrames* in Python (think of data manipulation through spreadsheets)\n",
    "- **`Statsmodels`**: integrates with NumPy, SciPy and Pandas to explore data, estimate statistical models and perform statistical tests\n",
    "- **`Seaborn`**: allows us to visualize statistical data (distributions and gradient maps for example)\n",
    "- **`Patsy`**: allows us to describe statistical models (ie. linear models)\n",
    "\n",
    "Additional modules, packages and libraries will be mentioned throughout the course is deemed necessary and useful. Every time a new package is used, we will be going over its creation, its functions and when to use them."
   ]
  },
  {
   "cell_type": "markdown",
   "id": "2b541729",
   "metadata": {},
   "source": [
    "### <font color=\"blue\">1.5 Why is Data Analysis Important in Physics and Astronomy?</font>\n",
    "\n",
    "As scientists, especially as physicists, we care about the data we collect or analyze. The same care and thought needs to be applied to our data collection methods as well as how we choose to analyze and interpret our data mathematically. But in order to understand and appreciate *data analysis*, we need to work backwards. \n",
    "\n",
    "**Data analysis**, by definition, is the process of collecting, modeling and analyzing data to extract insights and make predictions based on interpreted results. \n",
    "\n",
    "The methods of analyzing data involve the application of mathematical **statistics**. Statistics itself is based on observations and how we infer and interpret such results. This means that we have to understand statistical tests before moving forward towards data analysis. \n",
    "\n",
    "But, it doesn't stop there. The real world is never ideal and rather quite complex. In a way, you can consider nature to be full of uncertainty, unpredictability and randomness. To understand our statistical results, we need to understand the language of uncertainty, given by our knowledge of **probability**. \n",
    "\n",
    "That's why this course is structured in such a way for us to learn about probability first, use that to learn about statistical methods, and then apply all of our knowledge to data analysis in different fields of Physics and Astronomy. "
   ]
  },
  {
   "cell_type": "markdown",
   "id": "fa171ca4",
   "metadata": {},
   "source": [
    "### <font color=\"blue\">1.6 Statistical Jargon You Should Know</font>\n",
    "\n",
    "When we discuss probability, statistics and data analysis throughout this course, there will be terms that you will have to be familiar with. This will help in our discussions of various topics within these three main units of the course. Let's start off with the basics, and then move on to the specialized terms as we approach each topic in future lectures.\n",
    "\n",
    "To begin, let us discuss this scenario:\n",
    "<div class=\"alert alert-block alert-warning\">\n",
    "<i>Scenario A: You are looking to get into top shape through weightlifting and bodybuilding. One of your friends has taken a supplement that has led them to gain muscle mass fairly quickly. Of course, the supplement pill must work and you have to try it out! Chances are, you will be able to gain muscle mass as well. It's proven by your friend.</i>\n",
    "</div>\n",
    "\n",
    "Reading through *Scenario A*, you should probably feel uncertain about that conclusion (even more so as you go through this course). We call the evidence presented by your friend in this scenario **anecdotal evidence**, evidence that focuses on individual results and driven by non-experts and personal feelings. It is similar to you asking your friend for restaurant recommendations, travel destinations, etc. - all of these can be considered anectodal evidence that is not persuasive enough for a reliable answer. Why? When thinking about statistics, we realize that for anecdotal evidence, you have a small sample size (ie. your friend[s]), selection and confirmation bias (ie. people with one shared opinion typically stick together to support it), as well as inaccuracy (ie. most of them are personal stories). So, there must be ways of getting a much more reliable answer!\n",
    "\n",
    "#### 1.6.1 Overall Approach to Data Analysis\n",
    "\n",
    "If we want to share reliable results, we must follow rigorous steps to get there. When we apply the tools of statistics, that means we are covering the following areas, usually in this order:\n",
    "1. **Experimental Design**: Formulate a hypothesis and design the experiment, manipulation or sampling routine that will allow you to properly test that hypothesis\n",
    "2. **Data Collection**: Do test runs to collect 'dummy data' to ensure you minimize errors in the data collection routine and then proceed to carry out your data collection through various methods\n",
    "3. **Descriptive Statistics**: Generate statistics to summarize your collected data concisely, and visualize your data in various different ways\n",
    "4. **Inferential Statistics & Exploratory Data Analysis**: Generate conclusions about patterns, differences and other features about the data collected to help address your questions and identify any limitations or inconsistencies in your studies\n",
    "5. **Estimation**: Estimate patterns and characteristics of a general population from your data analysis\n",
    "6. **Hypothesis Testing**: Apply appropriate tests to help determine whether there are any causative effects and/or differences between two groups and the likelihood of that happening by chance\n",
    "\n",
    "By following these steps, we aim to answer our questions and test our hypotheses in ways that are evidence-based and more justifiable. \n",
    "\n",
    "#### 1.6.2 Basic Concepts and Terminology\n",
    "\n",
    "When discussing **statistics**, one of the most basic concepts is **sampling**, where a **sample** (a specified number of measurements or data points) is collected from a much larger body of measurements called the **population**. The goal of statistics is to describe or predict the behaviour of the population by performing data analysis on a representative sample from that population. \n",
    "\n",
    "Once we are presented with a set of measurements (whether it be a sample or population), we need to find a way to summarize this information. There are two main branches of statistics we have to be familiar with: descriptive vs. inferential statistics.\n",
    "\n",
    "<div class=\"alert alert-block alert-info\">\n",
    "    <b>Descriptive Statistics</b>: The branch of statistics that presents techniques for describing and summarizing key characteristics from a set of measurements.\n",
    "</div>\n",
    "\n",
    "<div class=\"alert alert-block alert-info\">\n",
    "    <b>Inferential Statistics</b>: The branch of statistics that consists of procedures used to make predirections and inferences about a population's characteristics from analyzing key characteristics from a representative sample of the population. \n",
    "</div>\n",
    "\n",
    "When working in statistics, there are specific terms that are used outside of sample and population. Of critical importance is your variable:\n",
    "\n",
    "<div class=\"alert alert-block alert-info\">\n",
    "    <b>Variable</b>: A measurable characteristic (number, quantity, attribute) that changes or varies over some time or other quantity. The data value that results from measuring a variable is called the <i>measurement</i>.\n",
    "</div>\n",
    "\n",
    "The simplest type of data analysis would be performed when there is one variable being measured on one experimental unit (the group that you are collecting your sample from). We call this type of data *univariate data*. What happens if we want to measure more than one variable? We use this naming convention:\n",
    "- **Univariate Data**: 1 variable measured on 1 experimental unit\n",
    "- **Bivariate Data**: 2 variables measured on 1 experimental unit\n",
    "- **Multivariate Data**: More than 2 variables measured on 1 experimental unit\n",
    "\n",
    "Looking at the variable itself, we also need to understand there can be different *types* of variables. We can easily separate them into two: **qualitative** vs. **quantitative**.\n",
    "<div class=\"alert alert-block alert-info\">\n",
    "    <b>Qualitative Variable</b>: Measures a quality or characteristic on each experimental unit. Data from qualitative variables are commonly called <i>categorical data</i>.<br>\n",
    "    <b>Quantitative Variable</b>: Measures a <u>numerical</u> quantity or amount on each experimental unit. As we are dealing with numbers, we can define them as either <i>discrete variables</i> which assume a finite number of values; or <i>continuous variables</i> which assume infinitely many values corresponding to the points on a line interval.\n",
    "</div>\n",
    "\n",
    "Now that we can categorize the *type* of data we have, we need a way to *describe* this data. We do this by graphing (visual methods) and numerical measures (mean, median, mode, etc.). This is what we will tackle in the next chapter. "
   ]
  },
  {
   "cell_type": "markdown",
   "id": "399596e9",
   "metadata": {},
   "source": [
    "### <font color=\"green\">1.7 Practice Problems</font>\n",
    "\n",
    "Try to answer these problems yourself before the live lectures and tutorials. Feel free to connect with your peers on Discord or on campus if you prefer to work together. If you are struggling with them, we will cover them during live sessions."
   ]
  },
  {
   "cell_type": "markdown",
   "id": "53e6dd99",
   "metadata": {},
   "source": [
    "#### Problem 1A\n",
    "\n",
    "Determine whether the following variables are qualitative or quantitative. If quantitative, categorize them as either discrete or continuous. \n",
    "1. Average daily temperature for Waterloo during winter\n",
    "2. The most frequent type of use for your microwave (reheat, defrost, warm or other)\n",
    "3. The number of students in first year who attend orientation\n",
    "4. The number of birds in a tree\n",
    "5. The most popular genre of video games being played by your generation (action/adventure, shooter, RPG, sports, other)"
   ]
  },
  {
   "cell_type": "markdown",
   "id": "2378dcb5",
   "metadata": {},
   "source": [
    "#### Problem 1A - Solution"
   ]
  },
  {
   "cell_type": "code",
   "execution_count": 8,
   "id": "b544034c",
   "metadata": {},
   "outputs": [],
   "source": [
    "#1. Quantative Continuous \n",
    "#2. Qualitative\n",
    "#3. Quantative Discrete\n",
    "#4. Quantative Discrete\n",
    "#5. Qualatative\n"
   ]
  },
  {
   "cell_type": "markdown",
   "id": "ef5629c0",
   "metadata": {},
   "source": [
    "#### Problem 1B\n",
    "\n",
    "Let's say you have a text file (Chapter01_SampleData.txt) with some data points in it. The file itself contains two columns of data: one for your x-values and one for your y-values. The x-values go up in increments of 1 from 1 to 10 and the y-values go up in increments of 10 from 10 to 100. How would you write Python code to import the data and print out the y-value of the 6th row?"
   ]
  },
  {
   "cell_type": "markdown",
   "id": "4cadb8c7",
   "metadata": {},
   "source": [
    "#### Problem 1B - Solution"
   ]
  },
  {
   "cell_type": "code",
   "execution_count": 20,
   "id": "db6e8d9d",
   "metadata": {},
   "outputs": [
    {
     "name": "stdout",
     "output_type": "stream",
     "text": [
      "60.0\n"
     ]
    }
   ],
   "source": [
    "import numpy as np\n",
    "filename = 'Chapter01_SampleData.txt'\n",
    "data = np.loadtxt(filename)\n",
    "print(data[5,1])"
   ]
  }
 ],
 "metadata": {
  "kernelspec": {
   "display_name": "Python 3.11.1 64-bit",
   "language": "python",
   "name": "python3"
  },
  "language_info": {
   "codemirror_mode": {
    "name": "ipython",
    "version": 3
   },
   "file_extension": ".py",
   "mimetype": "text/x-python",
   "name": "python",
   "nbconvert_exporter": "python",
   "pygments_lexer": "ipython3",
   "version": "3.11.1"
  },
  "vscode": {
   "interpreter": {
    "hash": "2d88b7d5c6f842aec972d2bf3dc7634d8accd620febbbf6c17d17a97ce72770e"
   }
  }
 },
 "nbformat": 4,
 "nbformat_minor": 5
}
