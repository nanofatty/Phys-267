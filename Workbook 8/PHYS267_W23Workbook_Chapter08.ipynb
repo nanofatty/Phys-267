{
 "cells": [
  {
   "cell_type": "markdown",
   "id": "2c022bd6",
   "metadata": {},
   "source": [
    "# PHYS 267 - Chapter 8<br><font color='blue'>Experimental Design & Hypothesis Testing</font>\n",
    "###### Last Updated: Jan 9, 2023 by Dr. Brenda Lee\n",
    "***"
   ]
  },
  {
   "cell_type": "markdown",
   "id": "9dd830a4",
   "metadata": {},
   "source": [
    "### <font color=\"blue\">8.1 Chapter Overview</font>\n",
    "\n",
    "We have spent the past few weeks familiarizing ourselves with probability distributions of random variables, sampling distributions of statistics, and how they can be approximated as a normal distribution via the Central Limit Theorem. Apart from that, we also discussed how error can arise in experiments, and how to work with error when presenting our data. The next logical progression of our studies will be to test the significance of our findings and ensure that proper experimental design protocols are being followed right from the start.\n",
    "\n",
    "In the first few chapters of the course, a lot of our discussions were been based on descriptive statistics, both graphical and numerical, to interpret different data sets. In the previous few chapters, we made sure we were able to learn about different probability distributions that could be used to describe populations of measurements. It is now time to use these building blocks to understand what we mean by **statistical inference** and apply it to practical situations. In other words, we are going to use the information from our sample's data set and make predictions and inferences about the population. \n",
    "\n",
    "<div class=\"alert alert-block alert-info\">💎<b>Chapter Objectives</b>:<br>\n",
    "    <ol>\n",
    "        <li>Understand the difference between hypothesis testing or parameter estimation</li>\n",
    "        <li>Understand experimental design and different types of controls</li>\n",
    "        <li>Be familiar with the concept of hypothesis testing, p-values, and levels of significance/confidence</li>\n",
    "    </ol>\n",
    "</div>"
   ]
  },
  {
   "cell_type": "markdown",
   "id": "1d998b22",
   "metadata": {},
   "source": [
    "### <font color=\"blue\">8.2 Statistical Inference</font>\n",
    "\n",
    "Statistical inference is more important than you think in everyone's life. You and your family may want to estimate the selling price of your house in the future, or look into the behaviour of the stock market to make an investment. People in positions of power may want to predict short- and long-term costs to create baselines for their revenue and employee salaries. Scientists may want to determine which type of element is in an unknown material, or they may want to discover new particles in our surroundings. No matter what it is, there are tons of ways to make these decisions and predictions - but we all have to know how to judge whether those predictions will be accurate or not. \n",
    "\n",
    "This is why statistical inference is concerned with making decisions or predictions about **parameters**, the numerical measures that characterize a *population* (not sample!). The methods for making inferences about population parameters fall into one of two categories:\n",
    "- **Hypothesis Testing**: Make a decision about the value of a parameter based on some preconceived idea about what its value might be\n",
    "- **Parameter Estimation**: Estimating or predicting the value of a parameter\n",
    "\n",
    "In this chapter, we will focus only on hypothesis testing as there is already enough to go through.\n",
    "\n",
    "But, a good question to start off with would be... which method should I choose to make my inferences about the population? That's a question that can only be answered by your experimental design and how you have chosen to ask your scientific question. \n",
    "\n",
    "<font color='green'>**Example A:** A pharmaceutical company is developing an antibiotic. They wish to perform experiments to (a) determine the mean potency of the antibiotic and (b) see if it falls within minimum government potency standards. Which experiment would be more suitable for hypothesis testing?</font>\n",
    "\n",
    "*Solution A:* Note that in (a), we are trying to find an exact value. This falls more within the realm of parameter estimation, when we are trying to estimate or predict the value of a parameter: the mean potency of the antibiotic. But in (b), we have a more general question that can be asked: does the potency exceed the minimum government potency standards? This illustrates a *statistical test of hypothesis* that can be rejected if insignificant, and accepted if significant. "
   ]
  },
  {
   "cell_type": "markdown",
   "id": "ce349386",
   "metadata": {},
   "source": [
    "### <font color=\"blue\">8.3 Experimental Design</font>\n",
    "\n",
    "Experimental design is determined by the hypothesis or hypotheses being investigated. In the various fields of Physics, many investigations use experiments of some sort. An experiment occurs when anything is altered or controlled by the investigator. The condition being controlled is called the **factor**, and the different levels used are called the **factor levels**. \n",
    "\n",
    "The key thing when it comes to experimental design, is to ensure that at the end of the day, you are properly investigating the factor(s) of interest, and trying to remove all other factors that could potentially affect your measurements and cause systematic errors in your data. It is important to go through the idea of introducing controls to an experiment, and offer some advice on experimental design in the following subchapters.\n",
    "\n",
    "#### 8.3.1 Steps to Proper Experimental Design\n",
    "\n",
    "The idea behind an experiment is to discover a causal relationship between an **independent variable** that can be manipulated (the factor levels) and measure their effect on a **dependent variable**. When applying experimental design techniques, you must first form a hypothesis that can be tested. In order to answer your question and refute a null hypothesis (which we'll explain in the next section), you must be very familiar with the system and concepts you are studying, so that you are aware of all possible factors and conditions that may affect the outcome of your experiment. \n",
    "\n",
    "Some of the main steps to designing an experiment are as follows:\n",
    "1. Understand and consider all **variables** and their relationships to one another. \n",
    "2. Present a testable **hypothesis** that is specific to what you are looking for, and not too broad.\n",
    "3. Design experiment(s) or sampling routine(s) to manipulate a chosen **independent variable** and record data\n",
    "4. Apply appropriate **statistical tests**\n",
    "5. Analyze your results for **significance** and check to see if any optimizations can be performed on the experiment. If so, make adjustments and repeat Steps 3-5 until you are satisfied with your results.\n",
    "6. Summarize, present and discuss your **findings**.\n",
    "\n",
    "#### 8.3.2 Controls\n",
    "\n",
    "Introducing a **control** into an experiment helps to remove the effect of all other factors apart from the one that is being investigated. There are various types of controls that you can apply to an experiment, but the shared goal amongst each of them is that by the time you apply the control and collect data for the controlled experiment versus the uncontrolled experiment, you should be only able to notice differences that come from the manipulation of your desired factor and isolate those differences as coming from that factor itself. Let's take a look at how we can apply various controls to our experiments.\n",
    "\n",
    "- **Experimental Control:** A classical type of control that tries to remove all possible effects on the observation other than the one from experimental manipulation itself (ie. factor levels). This involves controlling all external factors that could affect your experiment, from temperature and humidity to light and environmental conditions. The problem with applying experimental controls is that by the time you've applied all of them, the conditions are not quite realistic anymore because you've imposed ideal conditions that are not achievabe in Nature.\n",
    "\n",
    "\n",
    "- **Procedural Control:** A commonly overlooked type of control that is popular in medicine and experimental designs that involve significant preparation and technique. If there are many steps to your experimentation (ie. in medical clinical trials, you would have experiments running for months or years), you would want to have a control group (the \"untouched\" group) and an experimental group. Both groups undergo the same procedure, but only the experimental group receives the proper manipulation of factor levels for us to collect data on, while the control group is led to believe that they have received the same treatment and/or manipulation. This is where the term \"placebo effect\" would arise, especially in medical studies when those from the control group exhibit changes in behaviour or treatment from sources outside of the factor.\n",
    "\n",
    "\n",
    "- **Temporal Control:** This must be considered if you have experiments that run on for long periods of time. If you have a control group vs. an experimental group, it may be best to integrate a period of observation at the beginning of the experiment to take note of any pre-existing differences between the two groups. This way, when you apply your factor manipulations, you can rule out these differences as an effect of the factor of interest.\n",
    "\n",
    "\n",
    "- **Statistical Control:** Sometimes, it may not be possible to control every aspect of an experiment. In such cases, we apply an alternative control called a statistical control, where we don't adjust the environment settings of an experiment, but rather record them for analysis afterwards. Often times, it is possible to select the various effects of external factors and remove them from the analysis to leave only the effect of the manipulation. This is significantly more cost-effective than experimental controls but requires more effort on the researcher's part. "
   ]
  },
  {
   "cell_type": "markdown",
   "id": "2a24d645",
   "metadata": {},
   "source": [
    "### <font color=\"blue\">8.4 Hypothesis Testing</font>\n",
    "\n",
    "So much of scientific investigation is based on the idea of **hypothesis testing**. The idea is for us to formalize a hypothesis called $H_1$, **the hypothesis**, into a statement for us to prove or disprove. For example, we can can say that our $H_1$ hypothesis is: \"Stars have more mass than planets\". We would have to collect data and use statistical tests to determine whether the hypothesis is true or not. But, it's not quite that easy. Even though this question may appear simple, statistical tests rarely give a \"yes\" or \"no\" response, but rather give you a level of confidence in saying \"yes\" or \"no\".\n",
    "\n",
    "Before we even begin going through statistical tests, we have to realize that for every hypothesis we have, we have what's called a **null hypothesis $H_0$**, which contradicts your original $H_1$ hypothesis. Following our example from above, our null hypothesis would be: \"Planets have more mass than stars\". \n",
    "\n",
    "But, how do we prove or disprove either hypothesis? Let's first set some standards. In the legal system, we regularly use \"innocent until proven guilty\" for someone who is accused of a crime. In science, we take a similar approach: \"null hypothesis is true until proven otherwise\". So, researchers like us will *always begin with the null hypothesis $H_0$ being true*. We will then use our sample data to decide whether the evidence will lead us to one of these conclusions:\n",
    "- **Reject $H_0$** and conclude that our hypothesis is true\n",
    "- **Accept $H_0$** and conclude that the null hypothesis is true\n",
    "\n",
    "The next question we have is, how do we accept or reject the null hypothesis $H_0$? We can do that by calculating the **$p$-Value**, a probability calculated using a test statistic. Let's look at this a bit more closely, and see what kinds of error is involved with our conclusions. Note that you should be looking at the following 5 things for each statistics test of a hypothesis:\n",
    "1. Null hypothesis $H_0$\n",
    "2. Hypothesis $H_1$\n",
    "3. Test statistic and its $p$-value\n",
    "4. Rejection region\n",
    "5. Conclusion\n",
    "\n",
    "When performing such tests, also note that we can have **one-tailed tests of hypotheses** which focus on directional differences in the value of $p$, or **two-tailed tests of hypotheses** which do not care about directional differences for your hypothesis (value can be large or smaller than your hypothesized amount)."
   ]
  },
  {
   "cell_type": "markdown",
   "id": "8225ec95",
   "metadata": {},
   "source": [
    "#### 8.4.1 The Test Statistic\n",
    "\n",
    "The **test statistic** is a single number calculated from the sample data that we can use for our hypothesis test.\n",
    "\n",
    "Let's say we have a hypothesis where the mass of something is not equal to 20, and 100 measurements were made. This means that we can set the hypothesis mean value of $\\mu\\ne 20$ and our null hypothesis would be $\\mu= 20$. We can make the following statements about this:\n",
    "\n",
    "- If the null hypothesis $H_0$ is true, then the sample mean should not be too far off from the population mean of $\\mu=20$\n",
    "\n",
    "\n",
    "- If the sample sample produces a sample mean of $\\bar{x}=21$ with a standard deviation of $s=2$, we call the sample mean a **test statistic** that can be used to generate a $p$-value for our data set\n",
    "\n",
    "\n",
    "- Since the sample size is large, we can say that the sampling distribution of $\\bar{x}$ is approximately normal with a mean of $\\mu=20$ and standarded error $\\sigma/\\sqrt{n}$ and estimate it as follows:\n",
    "$$\\text{SE}=\\frac{s}{\\sqrt{n}}=\\frac{2}{\\sqrt{100}}=0.2$$\n",
    "\n",
    "\n",
    "- We can then say that the *test statistic $\\bar{x}=20$* lies $z$ standard deviations from the population mean $\\mu$:\n",
    "$$z = \\frac{\\bar{x}-\\mu}{\\sigma/\\sqrt{n}}= \\frac{21-20}{0.2} = 5$$\n",
    "\n",
    "\n",
    "- The $p$-value would then be the probability of observing a test statistic as extreme or more extreme than the observed value, or such that $P(z>\\pm 5)$. We create **rejection regions** based on the chosen $\\alpha$ level of significance with cut-off areas a value of $\\alpha/2$ for the right and left tails of a distribution.\n",
    "\n",
    "\n",
    "- Thus, the smaller the p-value and the larger the test statistic, the more likely you have observed an unlikely event and that you can reject the null hypothesis"
   ]
  },
  {
   "cell_type": "markdown",
   "id": "0389e21b",
   "metadata": {},
   "source": [
    "#### 8.4.2 The $p$-Value\n",
    "\n",
    "Simply put, the **$p$-value** is the probability of seeing a select set of data if the null hypothesis true. If a $p$-value of 0.08 is given, that means that you have an 8% chance of seeing data like this if the null hypothesis is true. So, how does this help us accept or reject the null hypothesis? Well, it depends on your field of study and what is generally accepted. Typically, a $p$-value of 0.05 is the upper threshold for rejecting the null hypothesis and thus accepting our original hypothesis. This means, the smaller the $p$-value, the more confident we can be in the conclusions we draw from it.\n",
    "\n",
    "Have we seen concepts related to $p$-values before? Indeed we have. Let's say we have our hypothesis $H_1$, and this has a probability density function of $p(x)$ for measured values of $x$. We then have obtained an unexpectedly large value of $x$. We can test the $p$-value as follows:\n",
    "\n",
    "$$P(>x)=\\int_x^\\infty p(x)$$\n",
    "\n",
    "We can then accept or reject $H_1$ based on the value of $p$. If we know that the $p$-value must be 0.05 or lower, that means that we can call that value our **significance level $\\alpha$**, and thus derive our **confidence level $1-\\alpha$**. This means that with a significance level of $\\alpha=0.05$, we would be looking at a confidence level of 95% in rejecting the null hypothesis. Note that the left and right tails of the remaining percentage would constitute the rejection region for your values.\n",
    "\n",
    "In tables, it is conventional to indicate degrees of significance with asterisks in tables and figures. A single asterisk usually mens $p$-values between 0.05 and 0.01, while two asterisks are used for values below 0.01. Three asterisks are reserved for results below 0.005 or 0.001. If you do choose to use asterisks, having a legend would help in case you adjust these boundaries to suit your data analysis.\n",
    "\n",
    "Just remember that rejecting the null hypothesis does allow us to draw conclusions about our hypothesis... but this does not prove our hypothesis is correct. It simply means that our hypothesis can be considered with some degree of confidence. We will be going through more discussions of the $p$-value as we move forward with various statistical tests and considerations.\n",
    "\n",
    "As an example, in 2012, the long-sought Higgs boson was discovered, a tiny fundamental physics particle that garnered widespread attention. During this time, the term \"five sigma\" was tossed around by scientists to describe the strength of the discovery. Now, you can fully appreciate why they've termed it that and how significant this discovery was. When scientists discovered the Higgs boson, they did not present the probability that the Higgs boson exists or not - they presented the probability that if the Higgs boson did not exist, the data would be as extreme as what they observed. The likelihood of that was then described in a $p$-value of $3\\times10^{-7}$, which means that it is a 1 in 3.5 million chance that the data would be that extreme in the absent of Higgs boson. This effectively rejected the null hypothesis and meant that the data could only be that extreme if the Higgs boson existed. "
   ]
  },
  {
   "cell_type": "markdown",
   "id": "59da9853",
   "metadata": {},
   "source": [
    "#### 8.4.3 Acceptable Errors\n",
    "\n",
    "In reality, the null hypothesis must be true or false. But with our data analysis, we can only say that we reject or accept the null hypothesis with a certain level of confidence. This means that there is room for error, and we must be able to categorize the type of error in making wrong inferences from a test. There are two types of error suitably called Type I and Type II errors. \n",
    "\n",
    "A **Type I Error** is when the null hypothesis is really true (ie. Planets have more mass than stars) but the statistical test has led you to believe that it is false. We call this a *false positive*. \n",
    "\n",
    "A **Type II Error** is when the null hypothesis is really false (ie. Stars have more mass than planets) but the statistical test has not picked up on these results and has ledd you to believe that it is true. Usually, this is the cause of small sample sizes and is less \"dangerous\" than a Type I erro. \n",
    "\n",
    "Preferably, an ideal statistical test will have a low chance of these two types of errors taking place.\n",
    "\n",
    "In the next few chapters, we will be going through different statistical tests as well as parameter estimation."
   ]
  },
  {
   "cell_type": "markdown",
   "id": "7db9124f",
   "metadata": {},
   "source": [
    "### <font color=\"green\">8.5 Practice Problems</font>\n",
    "\n",
    "Try to answer these problems yourself before the live lectures and tutorials. Feel free to connect with your peers on Discord or on campus if you prefer to work together. If you are struggling with them, we will cover them during live sessions."
   ]
  },
  {
   "cell_type": "markdown",
   "id": "dec9cbe6",
   "metadata": {},
   "source": [
    "#### Problem 8A\n",
    "\n",
    "You wish to show that the average hourly wage of undergraduate TA's is different than $14, which is the national average.\n",
    "1. Write the hypothesis\n",
    "2. Write the null hypothesis\n",
    "3. What can you conclude if you reject the null hypothesis?"
   ]
  },
  {
   "cell_type": "markdown",
   "id": "1f129eaa",
   "metadata": {},
   "source": [
    "#### Problem 8A - Solution"
   ]
  },
  {
   "attachments": {},
   "cell_type": "markdown",
   "id": "75303918",
   "metadata": {},
   "source": [
    "Hypothesis: TA's hourly wage is different or not equal to $14\n",
    "Null Hypothesis: TA's hourly wage is same as National average of $14\n",
    "Conclusion: Based on some test assuming statement is correct and we reject null hypothesis there's a good level of confidence that TA's hourly wage is not $14."
   ]
  },
  {
   "cell_type": "markdown",
   "id": "84fdc619",
   "metadata": {},
   "source": [
    "#### Problem 8B\n",
    "\n",
    "The average Canadian should not exceed an average daily soddium intake of 3300 mg. A sample of 100 Canadians is selected to determine if Canadians are exceeding the limit. The mean and standard deviation of daily sodium intake are found to be 3400 mg and 1100 mg, respectively. Use $\\alpha=0.05$ to conudct a test of hypothesis."
   ]
  },
  {
   "cell_type": "markdown",
   "id": "4f0a5d15",
   "metadata": {},
   "source": [
    "#### Problem 8B - Solution"
   ]
  },
  {
   "cell_type": "code",
   "execution_count": 2,
   "id": "dc639ac7",
   "metadata": {},
   "outputs": [
    {
     "name": "stdout",
     "output_type": "stream",
     "text": [
      "0.9090909090909091\n"
     ]
    }
   ],
   "source": [
    "# Hypothesis daily in take is higher than 3300\n",
    "# Null-hypothesis \n",
    "import numpy as np\n",
    "xbar = 3400\n",
    "sigma = 1100\n",
    "mu = 3300\n",
    "alpha = 1100\n",
    "n = 100\n",
    "z_score = (xbar-mu)/(sigma/np.sqrt(n))\n",
    "print(z_score)\n",
    "# p value from online source is 0.181649 hence the result is not significant and we do not reject null hypothesis\n"
   ]
  },
  {
   "cell_type": "markdown",
   "id": "ad7987a1",
   "metadata": {},
   "source": [
    "#### Problem 8C\n",
    "\n",
    "The meat department of a local supermarket chain packages ground beef in trays of two sizes. The smaller tray is intended to hold 1 kg of meat. A random sample of 35 packages in the smaller meat tray produced weight measurements with an average of 1.01 kg and a standard deviation of 20 g. \n",
    "\n",
    "1. If you were the quality control manager and wanted to make sure that the average amount of ground beef was indeed 1 kg, what hypothesis would you test?\n",
    "2. Find the $p$-value for the test and use it to perform the test in part 1. Hint: To convert z-scores to p-values, try using `scipy.stats.norm.sf(z)` where `sf()` is the **survival function** defined as 1-CDF. Just remember this is for a one-sided test, so if you want a two-sided test, you have to multiply by 2.\n",
    "3. How would you, as the quality control manager, report the results of your study to a consumer interest group?"
   ]
  },
  {
   "cell_type": "markdown",
   "id": "88cac82b",
   "metadata": {},
   "source": [
    "#### Problem 8C - Solution"
   ]
  },
  {
   "attachments": {},
   "cell_type": "markdown",
   "id": "31eccc72",
   "metadata": {},
   "source": [
    "Hypothesis is that weight of beef is not 1kg, implying that null hypothesis is that the beef is 1kg"
   ]
  },
  {
   "cell_type": "code",
   "execution_count": 3,
   "id": "adad7d62",
   "metadata": {},
   "outputs": [
    {
     "name": "stdout",
     "output_type": "stream",
     "text": [
      "The p-value = 0.0030960205499589856\n"
     ]
    }
   ],
   "source": [
    "from scipy.stats import norm\n",
    "mu2 = 1\n",
    "xbar2 = 1.01\n",
    "std = 0.02\n",
    "n2 = 35\n",
    "z_score2 = (xbar2-mu2)/(std/np.sqrt(n2))\n",
    "pval = norm.sf(z_score2)*2\n",
    "print(\"The p-value =\", pval)"
   ]
  },
  {
   "attachments": {},
   "cell_type": "markdown",
   "id": "ef281244",
   "metadata": {},
   "source": [
    "Since the p-value is less than 0.05 we reject the null hypothesis and infer that weight of beef is not 1 kg"
   ]
  }
 ],
 "metadata": {
  "kernelspec": {
   "display_name": "Python 3",
   "language": "python",
   "name": "python3"
  },
  "language_info": {
   "codemirror_mode": {
    "name": "ipython",
    "version": 3
   },
   "file_extension": ".py",
   "mimetype": "text/x-python",
   "name": "python",
   "nbconvert_exporter": "python",
   "pygments_lexer": "ipython3",
   "version": "3.9.13"
  }
 },
 "nbformat": 4,
 "nbformat_minor": 5
}
