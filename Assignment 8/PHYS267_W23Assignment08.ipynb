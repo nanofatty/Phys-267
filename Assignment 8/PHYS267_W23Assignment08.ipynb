{
 "cells": [
  {
   "cell_type": "markdown",
   "id": "a734bb61",
   "metadata": {},
   "source": [
    "# PHYS 267 - Assignment 8\n",
    "###### Last Updated: March 12, 2023 by Dr. Brenda Lee\n",
    "***"
   ]
  },
  {
   "cell_type": "markdown",
   "id": "98187aaa",
   "metadata": {},
   "source": [
    "### Question 1\n",
    "\n",
    "Make a list of different statistics tests we have gone through in the Chapter 9 workbook. Create a table of when to use which test that is easily understood. This table will be useful to you in the future. You **must** include the Python package/function that allows you to perform this test. It may be submitted as a Word document or as an HTML table here, or handwritten as a separate attachment to your submission.\n",
    "\n",
    "Total Marks: 4"
   ]
  },
  {
   "cell_type": "markdown",
   "id": "5171d0ce",
   "metadata": {},
   "source": [
    "#### Solution"
   ]
  },
  {
   "attachments": {},
   "cell_type": "markdown",
   "id": "d5afc145",
   "metadata": {},
   "source": [
    "| Test | Python Package/Function | When to Use |\n",
    "| --- | --- | --- |\n",
    "| T-test one-sample | `scipy.stats.ttest_1samp` | Compare means of one groups |\n",
    "| Paired t-test | `scipy.stats.ttest_rel` | Compare means of two related groups |\n",
    "| Unpaired t-test | `scipy.stats.ttest_ind` | Compare means of two independent groups |\n",
    "| Chi squared test | `scipy.stats.chi2_contingency` | Compare observed and expected frequencies |\n",
    "| F-test | `scipy.stats.f_oneway` | Compare variances of two or more groups |\n",
    "| One-Sample Wilcoxon Signed Rank Sum Test | `scipy.stats.wilcoxon` | Compare the median of a sample to a given value |\n",
    "| Mann-Whitney test | `scipy.stats.mannwhitneyu` | Compare medians of two independent groups |\n",
    "| One-way ANOVA | `scipy.stats.f_oneway` | Compare means of more than two groups |\n",
    "| Kruskal-Wallis Test | `scipy.stats.kruskal` | Compare medians of more than two groups |\n"
   ]
  },
  {
   "attachments": {},
   "cell_type": "markdown",
   "id": "3d3b3cb0",
   "metadata": {},
   "source": []
  },
  {
   "cell_type": "markdown",
   "id": "9b6f6d1f",
   "metadata": {},
   "source": [
    "### Question 2\n",
    "\n",
    "A poll has been created and 20 responses collected from each of five age groups: <15, 15-30, 30-45, 45-60, >60. The University of Waterloo wants to know if their population wants to continue working from home during the pandemic. The questionnaire states \"Working and learning from home will benefit University of Waterloo employees and students during the pandemic.\" The possible answers are:\n",
    "(1) Strongly Agree, (2) Agree, (3) Disagree, (4) Strongly Disagree\n",
    "\n",
    "The University wants to find out if the age of people influenced feelings about their preferences, particularly of those who felt negatievly (ie. \"disagreed\" or \"strongly disagreed\") about working/learning from home.\n",
    "\n",
    "<table>\n",
    "    <tr>\n",
    "        <th>Age Group (Type)</th>\n",
    "        <th>Frequency of Negative Responses (Observed Values)</th>\n",
    "    </tr>\n",
    "    <tr>\n",
    "        <td>Less than 15</td>\n",
    "        <td>4</td>\n",
    "    </tr>\n",
    "    <tr>\n",
    "        <td>15-30</td>\n",
    "        <td>6</td>\n",
    "    </tr>\n",
    "    <tr>\n",
    "        <td>30-45</td>\n",
    "        <td>14</td>\n",
    "    </tr>\n",
    "    <tr>\n",
    "        <td>45-60</td>\n",
    "        <td>10</td>\n",
    "    </tr>\n",
    "    <tr>\n",
    "        <td>Greater than 60</td>\n",
    "        <td>16</td>\n",
    "    </tr>\n",
    "</table>\n",
    "\n",
    "These categories seem to show that there is a large difference of opinion between the groups. Answer the following questions:\n",
    "1. What kind of test would you use for this? What is the hypothesis or null hypothesis? [2 marks]\n",
    "2. Are these differences significant? State all relevant values and then make your inference. [5 marks]\n",
    "3. How many degrees of freedom does the resulting analysis have? Explain. [2 marks]\n",
    "\n",
    "Total Marks: 9"
   ]
  },
  {
   "cell_type": "markdown",
   "id": "a0439005",
   "metadata": {},
   "source": [
    "#### Solution"
   ]
  },
  {
   "attachments": {},
   "cell_type": "markdown",
   "id": "d94833ad",
   "metadata": {},
   "source": [
    "# Part 1\n",
    "since we are looking at association of age with given negative opinion we can use the chi square test. Mainly because number of opinions are like frequencies for categorical age groups.\n",
    "\n",
    "Our Null Hypothesis: There is no association between age and negative opinions on Working from home\n",
    "Hypothesis: There is an association with negatie opinions and age"
   ]
  },
  {
   "cell_type": "code",
   "execution_count": 4,
   "id": "9ea3a97a",
   "metadata": {},
   "outputs": [
    {
     "name": "stdout",
     "output_type": "stream",
     "text": [
      "Difference is age group is significant since p is = 0.03420269940871678\n"
     ]
    }
   ],
   "source": [
    "# Part 2\n",
    "import numpy as np\n",
    "import scipy.stats as stats\n",
    "\n",
    "Dataset = [4,6,14,10,16]\n",
    "t_value, p_value = stats.chisquare(Dataset)\n",
    "if p_value < 0.05:\n",
    "    print(\"Difference is age group is significant since p is =\", p_value)\n",
    "else:\n",
    "    print(\"Difference is age group is Not significant since p is =\", p_value)"
   ]
  },
  {
   "cell_type": "code",
   "execution_count": 5,
   "id": "ce201045",
   "metadata": {},
   "outputs": [
    {
     "name": "stdout",
     "output_type": "stream",
     "text": [
      "The chisquared test has a DOF = 4\n"
     ]
    }
   ],
   "source": [
    "# Part 3\n",
    "# dof =  (n-1)\n",
    "dof = len(Dataset)-1\n",
    "print(\"The chisquared test has a DOF =\", dof)"
   ]
  },
  {
   "cell_type": "markdown",
   "id": "cbcc1e0e",
   "metadata": {},
   "source": [
    "### Question 3\n",
    "\n",
    "The recommended number of study hours per course in a week at the University of Waterloo is 7 hours. Many students were polled between two programs: Physics and Arts. They were asked to report their average study hours per course throughout one week. Answer the following questions:\n",
    "1. The student's program and their average weekly number of study hours per course is given in the TXT file A8_Q3.txt. Present a graph of the distribution (whichever one displays the data most clearly). [3 marks]\n",
    "2. Pick a suitable test and determine whether the average weekly study hours per course is significantly different than the recommended value of 7 hours. Explain why you are using the test, perform the test using Python code, report the results, and interpret your results to draw a conclusion. [6 marks]\n",
    "3. Now, we want to compare between programs. Do Physics students study more than Arts students, significantly? Once again, pick and explain why you are using the test, perform the test using Python code, report the results, and interpret your results to draw a conclusion. [6 marks]\n",
    "\n",
    "Total Marks: 15 marks"
   ]
  },
  {
   "cell_type": "markdown",
   "id": "a1910337",
   "metadata": {},
   "source": [
    "#### Solution"
   ]
  },
  {
   "cell_type": "code",
   "execution_count": 9,
   "id": "045b99d4",
   "metadata": {},
   "outputs": [
    {
     "data": {
      "image/png": "[encoded data removed]",
      "text/plain": [
       "<Figure size 640x480 with 1 Axes>"
      ]
     },
     "metadata": {},
     "output_type": "display_data"
    }
   ],
   "source": [
    "# Part 1 - Graph\n",
    "import matplotlib.pyplot as plt\n",
    "\n",
    "Physics = [1, 14, 6, 9, 3, 9, 13, 10, 10, 8, 5, 11, 12, 18, 9, 7, 8, 15, 11, 8]\n",
    "Arts = [0, 1, 3, 5, 10, 6, 4, 8, 5, 9, 3, 2, 7, 9]\n",
    "\n",
    "fig, ax = plt.subplots()\n",
    "ax.hist([Physics,Arts])\n",
    "ax.legend(labels= [\"Physics\",\"Arts\"])\n",
    "ax.set_xlabel('Average Weekly Study Hours per Course')\n",
    "ax.set_ylabel('Frequency')\n",
    "plt.show()\n"
   ]
  },
  {
   "cell_type": "code",
   "execution_count": 14,
   "id": "449b8d34",
   "metadata": {},
   "outputs": [
    {
     "name": "stdout",
     "output_type": "stream",
     "text": [
      "t-statistic:  0.8575596540831916\n",
      "p-value:  0.39732115289987957\n",
      "Fail to reject the null hypothesis, implying sleeping hour is not significantly different from 7hrs (closer to 7)\n"
     ]
    }
   ],
   "source": [
    "# Part 2 - Compare with Recommended 7 Hours\n",
    "# Null Hypothesis: Average sleeping hours is not significantly different from 7 hrs\n",
    "# Hypothesis: Average sleeping hours is Significantly different from 7 hrs\n",
    "\n",
    "\n",
    "from scipy.stats import ttest_1samp\n",
    "\n",
    "# Read data from file\n",
    "data = np.genfromtxt('A8_Q3.txt', delimiter='\\t', skip_header=True, usecols=1) # genform allows for reading strings and values\n",
    "\n",
    "# Perform one-sample t-test\n",
    "t_stat, p_val = ttest_1samp(data, 7)\n",
    "\n",
    "# Print results\n",
    "print(\"t-statistic: \", t_stat)\n",
    "print(\"p-value: \", p_val)\n",
    "\n",
    "\n",
    "if p_val < 0.05:\n",
    "    print(\"Reject the null hypothesis, implying Average sleeping hours is significantly different from 7\")\n",
    "else:\n",
    "    print(\"Fail to reject the null hypothesis, implying sleeping hour is not significantly different from 7hrs (closer to 7)\")\n"
   ]
  },
  {
   "cell_type": "code",
   "execution_count": 18,
   "id": "f60f02fb",
   "metadata": {},
   "outputs": [
    {
     "name": "stdout",
     "output_type": "stream",
     "text": [
      "t-statistic:  3.2698435571578384\n",
      "p-value:  0.0025768741280226604\n",
      "Reject the null hypothesis; There's a difference in sleeping hours\n"
     ]
    }
   ],
   "source": [
    "# Part 3 - Compare Two Groups\n",
    "# use two-sample t-tests\n",
    "# Null Hypothesis: There's no difference between Physics and Arts sleeping hours\n",
    "# Hypothesis: There is a significant difference between the 2 program's sleeping hours\n",
    "\n",
    "\n",
    "\n",
    "# Perform two-sample t-test\n",
    "t_stat2, p_val2 = stats.ttest_ind(Physics, Arts)\n",
    "\n",
    "# Print results\n",
    "print(\"t-statistic: \", t_stat2)\n",
    "print(\"p-value: \", p_val2)\n",
    "\n",
    "\n",
    "if p_val2 < 0.05:\n",
    "    print(\"Reject the null hypothesis; There's a difference in sleeping hours\")\n",
    "else:\n",
    "    print(\"Fail to reject the null hypothesis, there's no significant difference in sleeping hours\")\n",
    "\n"
   ]
  },
  {
   "cell_type": "code",
   "execution_count": null,
   "id": "04364ca6",
   "metadata": {},
   "outputs": [],
   "source": []
  }
 ],
 "metadata": {
  "kernelspec": {
   "display_name": "Python 3",
   "language": "python",
   "name": "python3"
  },
  "language_info": {
   "codemirror_mode": {
    "name": "ipython",
    "version": 3
   },
   "file_extension": ".py",
   "mimetype": "text/x-python",
   "name": "python",
   "nbconvert_exporter": "python",
   "pygments_lexer": "ipython3",
   "version": "3.9.13"
  }
 },
 "nbformat": 4,
 "nbformat_minor": 5
}
