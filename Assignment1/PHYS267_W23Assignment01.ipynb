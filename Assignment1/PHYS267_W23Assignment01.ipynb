{
 "cells": [
  {
   "cell_type": "markdown",
   "id": "a46b0e66",
   "metadata": {},
   "source": [
    "# PHYS 267 - Assignment 1\n",
    "###### Last Updated: January 15, 2023 by Dr. Brenda Lee\n",
    "***"
   ]
  },
  {
   "cell_type": "markdown",
   "id": "7efa7b86",
   "metadata": {},
   "source": [
    "### Question 1\n",
    "\n",
    "Identify each of the following variables as continuous or discrete:\n",
    "1. The body temperature of your friend\n",
    "2. The average daily body temperature of your friend\n",
    "3. The number of properties for sale by a real estate agency\n",
    "4. The types of properties for sale by a real estate agency\n",
    "5. The average mass of a comet\n",
    "6. The number of known comets\n",
    "7. The value of a bell curve that was applied to an entire class.\n",
    "8. The number of grade appeals received by students during one week\n",
    "9. The length of time required for a driver to respond to an impending crash\n",
    "10. The number of individuals involved in the crash from Q1.9 above.\n",
    "\n",
    "Total marks: 5 (0.5 marks each)"
   ]
  },
  {
   "cell_type": "markdown",
   "id": "53a93650",
   "metadata": {},
   "source": [
    "#### Solution"
   ]
  },
  {
   "cell_type": "code",
   "execution_count": 58,
   "id": "531a1f0d",
   "metadata": {},
   "outputs": [],
   "source": [
    "# 1. Continuous\n",
    "# 2. continous\n",
    "# 3. Discrete\n",
    "# 4. Qualitative not quntative\n",
    "# 5. Continuous\n",
    "# 6. Discrete\n",
    "# 7. Continuous\n",
    "# 8. Discrete\n",
    "# 9. Continuous\n",
    "# 10. Descrete"
   ]
  },
  {
   "cell_type": "markdown",
   "id": "74addfb0",
   "metadata": {},
   "source": [
    "### Question 2\n",
    "\n",
    "You perform an experiment at home and collect the pulse rates of all your friends and family members at a specific time of day. You end up with 100 values of pulse rates. Load these values from the data file \"A1_PulseRates.txt\".\n",
    "\n",
    "1. Determine the mean, median and mode of these values using Python code. For mode, determine its frequency as well. [4 marks]\n",
    "2. Construct a relative frequency histogram for the data. Show all your work and comment appropriately. [8 marks]\n",
    "3. Write a short paragraph describing the distribution of pulse rates, specifically the standard deviation of your sample. [6 marks]\n",
    "\n",
    "Total marks: 18"
   ]
  },
  {
   "cell_type": "markdown",
   "id": "2941277e",
   "metadata": {},
   "source": [
    "#### Solution\n",
    "\n",
    "##### Part 1 - Mean / Median / Mode"
   ]
  },
  {
   "cell_type": "code",
   "execution_count": 59,
   "id": "49173138",
   "metadata": {},
   "outputs": [
    {
     "name": "stdout",
     "output_type": "stream",
     "text": [
      "The mean of the pulses are 87.57\n",
      "The median of the pulses are 88.0\n",
      "The mode of the pulse rates are: 99.0 which occurs 8 times\n"
     ]
    },
    {
     "name": "stderr",
     "output_type": "stream",
     "text": [
      "C:\\Users\\shinc\\AppData\\Local\\Temp\\ipykernel_12700\\2333429181.py:8: FutureWarning: Unlike other reduction functions (e.g. `skew`, `kurtosis`), the default behavior of `mode` typically preserves the axis it acts along. In SciPy 1.11.0, this behavior will change: the default value of `keepdims` will become False, the `axis` over which the statistic is taken will be eliminated, and the value None will no longer be accepted. Set `keepdims` to True or False to avoid this warning.\n",
      "  print(\"The mode of the pulse rates are:\", stats.mode(data)[0][0], \"which occurs\", stats.mode(data)[1][0], \"times\")\n"
     ]
    }
   ],
   "source": [
    "import numpy as np\n",
    "from scipy import stats\n",
    "\n",
    "Pulse = 'A1_PulseRates.txt'\n",
    "data = np.loadtxt(Pulse) # imports the pulse rate data\n",
    "print(\"The mean of the pulses are\",np.mean(data))\n",
    "print(\"The median of the pulses are\",np.median(data))\n",
    "print(\"The mode of the pulse rates are:\", stats.mode(data)[0][0], \"which occurs\", stats.mode(data)[1][0], \"times\")\n",
    "\n",
    "\n"
   ]
  },
  {
   "cell_type": "markdown",
   "id": "2530e802",
   "metadata": {},
   "source": [
    "##### Part 2 - Relative Frequency Histogram"
   ]
  },
  {
   "cell_type": "code",
   "execution_count": 60,
   "id": "d5efa478",
   "metadata": {},
   "outputs": [
    {
     "data": {
      "image/png": "[encoded data removed]",
      "text/plain": [
       "<Figure size 640x480 with 1 Axes>"
      ]
     },
     "metadata": {},
     "output_type": "display_data"
    }
   ],
   "source": [
    "import pandas as pd\n",
    "import matplotlib.pyplot as plt\n",
    "\n",
    "\n",
    "#df = pd.DataFrame(data)\n",
    "#rf = df.value_counts(normalize=True)\n",
    "# codes have been commented out because I did not want to venture any further\n",
    "# New codes below do the same thing\n",
    "plt.hist(data, bins=100, density=True, rwidth=9, color='#E3056C',edgecolor='black', linewidth=0.5)\n",
    "# takes the pulse data and plots it, \n",
    "# density=true makes it \"relative frequency\"\n",
    "# rest are cosmetics not so important\n",
    "plt.xlabel('Pulse Rate') \n",
    "plt.ylabel('Relative Frequency of Pulses')\n",
    "plt.title('Relative Frequency of Pulse rates Histogram')\n",
    "plt.show()\n"
   ]
  },
  {
   "cell_type": "markdown",
   "id": "2af6f216",
   "metadata": {},
   "source": [
    "##### Part 3 - Distribution of Pulse Rates / Standard Deviation"
   ]
  },
  {
   "cell_type": "code",
   "execution_count": 61,
   "id": "f24e914c",
   "metadata": {},
   "outputs": [
    {
     "name": "stdout",
     "output_type": "stream",
     "text": [
      "standard deviation of the \"sample\" pulse rates is 16.442280433643802\n",
      "standard deviation is treated as population: 16.35986246885957\n"
     ]
    }
   ],
   "source": [
    "print(\"standard deviation of the \\\"sample\\\" pulse rates is\", np.std(data, ddof=1))\n",
    "print(\"standard deviation if treated as population:\", np.std(data))\n",
    "# We can see that the standard deviations ary by a small amount depending on how we treat the given sample. Technically if only 1 experiment\n",
    "# was done, then this is our population standard deviation. The Variation of 16.4 pulses with a mean of 87.57 implies a range of 71.2-104 bpm\n",
    "# this is quite a wide spread and expected with a small set of data (100). With a larger data size this spread could be minimized giving us a\n",
    "# better estimation and quality of data."
   ]
  }
 ],
 "metadata": {
  "kernelspec": {
   "display_name": "base",
   "language": "python",
   "name": "python3"
  },
  "language_info": {
   "codemirror_mode": {
    "name": "ipython",
    "version": 3
   },
   "file_extension": ".py",
   "mimetype": "text/x-python",
   "name": "python",
   "nbconvert_exporter": "python",
   "pygments_lexer": "ipython3",
   "version": "3.9.13 (main, Aug 25 2022, 23:51:50) [MSC v.1916 64 bit (AMD64)]"
  },
  "vscode": {
   "interpreter": {
    "hash": "ad2bdc8ecc057115af97d19610ffacc2b4e99fae6737bb82f5d7fb13d2f2c186"
   }
  }
 },
 "nbformat": 4,
 "nbformat_minor": 5
}
