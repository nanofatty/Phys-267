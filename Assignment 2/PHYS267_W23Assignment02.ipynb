{
 "cells": [
  {
   "cell_type": "markdown",
   "id": "09bf2b02",
   "metadata": {},
   "source": [
    "# PHYS 267 - Assignment 2\n",
    "###### Last Updated: January 22, 2023 by Dr. Brenda Lee\n",
    "***\n",
    "<font color='red'>*Important*: Remember to **show ALL your work and thought process for these problems**. Please also answer subquestions in separate cells for easier grading for the TAs. Long explanations should be in a markdown cell; short explanations (if using code) can be comments.\n",
    "    \n",
    "Because there is no Python coding required for this assignment (unless you want to do the calculations in Python), you may choose to submit your documents as follows:\n",
    "- IPYNB file if you know how to use LaTeX, or if you want to use Python coding to work out your calculations\n",
    "- PDF/Word document of your written/typed out solutions if it is more convenient</font>"
   ]
  },
  {
   "cell_type": "markdown",
   "id": "f3d54716",
   "metadata": {},
   "source": [
    "### Question 1\n",
    "\n",
    "Every human being can have one of four blood types: A, B, AB, O.\n",
    "1. What is the sample space and how many simple events are there?\n",
    "2. The medical technician doesn't just record the blood type, but their Rh factor as well (which can be + or -). How many simple events would there now be in this sample space?\n",
    "\n",
    "Total Marks: 2 (1 mark each)"
   ]
  },
  {
   "cell_type": "markdown",
   "id": "c3fa93b3",
   "metadata": {},
   "source": [
    "#### Solution"
   ]
  },
  {
   "attachments": {},
   "cell_type": "markdown",
   "id": "a500fb02",
   "metadata": {},
   "source": [
    "1. Sample space is {A, B, AB, O}; while number of simple events is 4"
   ]
  },
  {
   "attachments": {},
   "cell_type": "markdown",
   "id": "bb069936",
   "metadata": {},
   "source": [
    "2. The sample space would now have a + and - for each original set, thereby doubling the number of simple events. So from 4 to 8."
   ]
  },
  {
   "cell_type": "markdown",
   "id": "bc38f266",
   "metadata": {},
   "source": [
    "### Question 2\n",
    "\n",
    "A study is to be conducted in a university to determine the attitudes of students towards various administrative procedures. If a sample of 12 students is selected from a total of 130, how many different samples can be selected?\n",
    "\n",
    "Total Marks: 4"
   ]
  },
  {
   "cell_type": "markdown",
   "id": "3dbe9dd1",
   "metadata": {},
   "source": [
    "#### Solution"
   ]
  },
  {
   "attachments": {},
   "cell_type": "markdown",
   "id": "f9473505",
   "metadata": {},
   "source": [
    "We can use nCr to calculate the number of different samples, this looks like a big number just by glancing at nCr(130,12), the code will be below"
   ]
  },
  {
   "cell_type": "code",
   "execution_count": 2,
   "id": "ae10812b",
   "metadata": {},
   "outputs": [
    {
     "name": "stdout",
     "output_type": "stream",
     "text": [
      "There are 28819772769788000 different samples that can be chosen\n"
     ]
    }
   ],
   "source": [
    "from math import comb\n",
    "\n",
    "c = comb(130,12) # does a combination with n = 130 and r = 12\n",
    "\n",
    "\n",
    "print(\"There are\", c, \"different samples that can be chosen\")\n",
    "\n"
   ]
  },
  {
   "cell_type": "markdown",
   "id": "ad91dac4",
   "metadata": {},
   "source": [
    "### Question 3\n",
    "\n",
    "Three students are playing a card game. They decide to choose the first person to play by each selecting a card from the 52-card deck and looking for the highest card in value and suit. They rank the suits from lowest to highest: clubs, diamonds, hearts and spades. \n",
    "1. If the card is replaced in the deck after each student chooses, how many possible configurations of the three choices are possible?\n",
    "2. How many configurations are there in which each student picks a different card?\n",
    "3. What is the probability that all three students pick exactly the same card?\n",
    "4. What is the probability that all three students pick different cards?\n",
    "\n",
    "Total Marks: 11"
   ]
  },
  {
   "cell_type": "markdown",
   "id": "dcb17f6b",
   "metadata": {},
   "source": [
    "#### Solution"
   ]
  },
  {
   "cell_type": "code",
   "execution_count": 5,
   "id": "6c39e4ea",
   "metadata": {},
   "outputs": [
    {
     "name": "stdout",
     "output_type": "stream",
     "text": [
      "The total configurations possible are: 140608\n"
     ]
    }
   ],
   "source": [
    "# q1) if by replace question means we put back the chosen card back into the deck then\n",
    "a = 52**3\n",
    "print(\"The total configurations possible are:\", a) # I hope the code counts as showing the equation/work\n",
    "# the other interpretation sounds like q2"
   ]
  },
  {
   "cell_type": "code",
   "execution_count": 6,
   "id": "414ba106",
   "metadata": {},
   "outputs": [
    {
     "name": "stdout",
     "output_type": "stream",
     "text": [
      "total configurations are 132600\n"
     ]
    }
   ],
   "source": [
    "# q2) if student 1 picks a card, that card is now gone from the set, \n",
    "b = 52*51*50\n",
    "print(\"total configurations are\", b ) "
   ]
  },
  {
   "cell_type": "code",
   "execution_count": 14,
   "id": "1e2c05c2",
   "metadata": {},
   "outputs": [
    {
     "name": "stdout",
     "output_type": "stream",
     "text": [
      "since lim n->∞ frequency/n ⇒P(A) = n/N, then 0.0003698224852071006 is the probability that they all pick the same card\n"
     ]
    }
   ],
   "source": [
    "# q3) this case is only possible in q1, \n",
    "d = 52*1*1/a\n",
    "print(\"since lim n->∞ frequency/n ⇒P(A) = n/N, then\",d, \"is the probability that they all pick the same card\" )"
   ]
  },
  {
   "cell_type": "code",
   "execution_count": 16,
   "id": "b1b4a616",
   "metadata": {},
   "outputs": [
    {
     "name": "stdout",
     "output_type": "stream",
     "text": [
      "the probability of all of them picking different cards is therefore 0.9430473372781065\n"
     ]
    }
   ],
   "source": [
    "# q4) we already know the total config of picking different cards from q2\n",
    "print(\"the probability of all of them picking different cards is therefore\", b/a)"
   ]
  },
  {
   "cell_type": "markdown",
   "id": "7ef3f344",
   "metadata": {},
   "source": [
    "### Question 4\n",
    "\n",
    "A good example for conditional probability lies within the study of genetics. Gregor Mendel was a monk and in 1865, he suggested a theory of inheritance based on the science of genetics. He identified heterozygous individuals for flower colour that had two alleles: $r$ for the recessive white colour allele and $R$ for the dominant red colour allele. When these individuals were mated, 3/4 of the offspring were observed to have red flowers and 1/4 had white flowers. This probability table helps to summarize this mating and the genetics of their offspring:\n",
    "\n",
    "<table>\n",
    "    <tr>\n",
    "        <td></td>\n",
    "        <th scope=\"col\">Parent 2: r<br></th>\n",
    "        <th scope=\"col\">Parent 2: R</th>\n",
    "    </tr>\n",
    "    <tr>\n",
    "        <th scope=\"row\">Parent 1: r</th>\n",
    "        <td>rr</td>\n",
    "        <td>rR</td>\n",
    "    </tr>\n",
    "    <tr>\n",
    "        <th scope=\"row\">Parent 1: R</th>\n",
    "        <td>Rr</td>\n",
    "        <td>RR</td>\n",
    "    </tr>\n",
    "</table>\n",
    "\n",
    "We can assume that each parent is equally likely to give either of the two alleles, and that if either of the two alleles in a pair has a dominant trait $R$, the offspring will have red flowers. Knowing this, please answering the following questions:\n",
    "\n",
    "1. What is the probability that an offspring in this mating has at least one dominant allele?\n",
    "2. What is the probability that an offspring has at least one recessive allele?\n",
    "3. What is the probability that an offspring has one recessive allele, given that the offspring has red flowers?\n",
    "\n",
    "Total Marks: 4"
   ]
  },
  {
   "cell_type": "markdown",
   "id": "0b0bd06d",
   "metadata": {},
   "source": [
    "#### Solution"
   ]
  },
  {
   "attachments": {},
   "cell_type": "markdown",
   "id": "1096a9e3",
   "metadata": {},
   "source": [
    "1. 3/4 or 75%, since the simple event is 4, and the sample space is {rr, rR,Rr, RR}, only 3 of the total contain R\n",
    "2. 3/4 or 75% again, similar reason, 3 of the sample space  contains at least 1 r\n",
    "3. 2/3 or 66.67%, since red is a dominant trait expressed by R, for an offspring being red given parent genotype the sample space is {RR,Rr,rR}, this gies us 2 events where one recessive allele is present with a total of 3 simple events"
   ]
  },
  {
   "cell_type": "markdown",
   "id": "49d7ef90",
   "metadata": {},
   "source": [
    "### Question 5\n",
    "\n",
    "There are three main types of telescope: refracting, Newtonian, and Schmidt-Cassegrain. They each have their own advantages and disadvantages, but everyone has their favourite. We will also categorize the people who use telescopes as either hobbyists or professionals. Here is a breakdown of what kind of person uses which kind of telescope, with what percentages:\n",
    "\n",
    "<table>\n",
    "    <tr>\n",
    "        <td></td>\n",
    "        <th scope=\"col\">Hobbyist<br></th>\n",
    "        <th scope=\"col\">Professional</th>\n",
    "    </tr>\n",
    "    <tr>\n",
    "        <th scope=\"row\">Refracting</th>\n",
    "        <td>4%</td>\n",
    "        <td>9%</td>\n",
    "    </tr>\n",
    "    <tr>\n",
    "        <th scope=\"row\">Newtonian</th>\n",
    "        <td>21%</td>\n",
    "        <td>27%</td>\n",
    "    </tr>\n",
    "    <tr>\n",
    "        <th scope=\"row\">Schmidt-Cassegrain</th>\n",
    "        <td>13%</td>\n",
    "        <td>7%</td>\n",
    "    </tr>\n",
    "</table>\n",
    "\n",
    "Assume that 69% of the respondents were hobbyists. Note that you **cannot assume these percentages are from the whole population, but rather a subset**. *Hint: Apply conditional probability*.\n",
    "\n",
    "*This question was modified from a textbook problem. You'll notice that the percentages do not add up. You will have to make an assumption - please state this assumption and we will mark accordingly. Specifically, it will be whether the percentages refer to the total population or whether they refer to the percentage of hobbyists or professionals that prefer each category.*\n",
    "\n",
    "1. What is the probability that the chosen person is a hobbyist and also prefers a refracting telescope?\n",
    "2. What is the proabbility that the respondent is a hobbyist and thinks Newtonian telescopes are the best?\n",
    "3. What is the probability that a selected person is a hobbyist given that they consider Schmidt-Cassegrain telescopes are the best?\n",
    "\n",
    "Total Marks: 7"
   ]
  },
  {
   "cell_type": "markdown",
   "id": "a30dca96",
   "metadata": {},
   "source": [
    "#### Solution"
   ]
  },
  {
   "attachments": {},
   "cell_type": "markdown",
   "id": "a431d082",
   "metadata": {},
   "source": [
    "Assumptions: We only know 69% respondents are hobbyist and we have no data on the rest. So we need to consider the chosen person being hobbyist and then the table statistics"
   ]
  },
  {
   "cell_type": "code",
   "execution_count": 17,
   "id": "5a82c14f",
   "metadata": {},
   "outputs": [
    {
     "name": "stdout",
     "output_type": "stream",
     "text": [
      "for question 1, probability that chosen person is hobbyist and prefers refracting telsecope is P(A|H)/P(H) = 0.05797101449275363\n"
     ]
    }
   ],
   "source": [
    "# q1 we can use P(A|H), where P(A) is probability for refraction, and P(H) is hobbyist respondents\n",
    "print(\"for question 1, probability that chosen person is hobbyist and prefers refracting telsecope is P(A|H)/P(H) =\",0.04/0.69)"
   ]
  },
  {
   "attachments": {},
   "cell_type": "markdown",
   "id": "4723810d",
   "metadata": {},
   "source": [
    "q2. should simply be 21% since it gives us \"full picture\" of the population since it was labelled as Hobbyist preferring Newtonian."
   ]
  },
  {
   "cell_type": "code",
   "execution_count": 18,
   "id": "70ad635d",
   "metadata": {},
   "outputs": [
    {
     "name": "stdout",
     "output_type": "stream",
     "text": [
      "we have, P(S|H)/((P(S|H)+P(S|Pr)))= 0.65\n"
     ]
    }
   ],
   "source": [
    "# Given that they consider schmidt-cassegrain to be the best and for them to be a hobbyist, \n",
    "print(\"we have, P(S|H)/((P(S|H)+P(S|Pr)))=\", 13/(13+7))"
   ]
  }
 ],
 "metadata": {
  "kernelspec": {
   "display_name": "Python 3",
   "language": "python",
   "name": "python3"
  },
  "language_info": {
   "codemirror_mode": {
    "name": "ipython",
    "version": 3
   },
   "file_extension": ".py",
   "mimetype": "text/x-python",
   "name": "python",
   "nbconvert_exporter": "python",
   "pygments_lexer": "ipython3",
   "version": "3.11.1"
  },
  "vscode": {
   "interpreter": {
    "hash": "2d88b7d5c6f842aec972d2bf3dc7634d8accd620febbbf6c17d17a97ce72770e"
   }
  }
 },
 "nbformat": 4,
 "nbformat_minor": 5
}
