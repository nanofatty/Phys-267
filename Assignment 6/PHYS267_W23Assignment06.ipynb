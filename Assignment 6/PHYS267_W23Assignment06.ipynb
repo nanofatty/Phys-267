{
 "cells": [
  {
   "cell_type": "markdown",
   "id": "b4fec7f3",
   "metadata": {},
   "source": [
    "# PHYS 267 - Assignment 6 Solutions\n",
    "###### Last Updated: Feb 23, 2022 by Dr. Brenda Lee\n",
    "***"
   ]
  },
  {
   "cell_type": "markdown",
   "id": "f81a02ad",
   "metadata": {},
   "source": [
    "### Question 1\n",
    "\n",
    "The average weekly earnings for graduate students without scholarships is $\\$$600. Do graduate students with scholarships earn more than $\\$$600? A random sample of $n=40$ graduate students with scholarships showed $\\overline{x} = \\$725$ and $s = \\$102$. Test the appropriate hypothesis using a significance level of 0.01.\n",
    "\n",
    "Total Marks: 9"
   ]
  },
  {
   "cell_type": "markdown",
   "id": "9291f38c",
   "metadata": {},
   "source": [
    "#### Solution"
   ]
  },
  {
   "attachments": {},
   "cell_type": "markdown",
   "id": "591568b9",
   "metadata": {},
   "source": [
    "Hypothesis : Students earn more than $600 with scholarhsips mu>600\n",
    "Null Hypothesis: Students earn on average $600 with scholarships mu = 600"
   ]
  },
  {
   "cell_type": "code",
   "execution_count": 1,
   "id": "89cb19f3",
   "metadata": {},
   "outputs": [
    {
     "name": "stdout",
     "output_type": "stream",
     "text": [
      "Z score for the following case is 7.75068053962838\n",
      "p-value for the sollowing is 4.570068331589579e-15\n"
     ]
    }
   ],
   "source": [
    "import numpy as np\n",
    "from scipy.stats import norm\n",
    "# all variables given\n",
    "xbar = 725\n",
    "s = 102\n",
    "n = 40\n",
    "mu = 600 # mu for our null hypothesis\n",
    "\n",
    "z_score = (xbar- mu)/(s/np.sqrt(n))\n",
    "pval= norm.sf(z_score)\n",
    "\n",
    "\n",
    "print(\"Z score for the following case is\", z_score)\n",
    "print(\"p-value for the following is\", pval)\n",
    "\n",
    "\n",
    "\n"
   ]
  },
  {
   "attachments": {},
   "cell_type": "markdown",
   "id": "6be12ab2",
   "metadata": {},
   "source": [
    "Since the p-value is way less than 0.01 we reject the null hypothesis, hence people with scholarships would make more than $600/week"
   ]
  },
  {
   "cell_type": "markdown",
   "id": "00220848",
   "metadata": {},
   "source": [
    "### Question 2\n",
    "\n",
    "Find the appropriate rejection regions for the test statistic $z$ in these cases. You **must use Python code** to present your answers.\n",
    "1. A left-tailed test at the 1% significance level. [3 marks]\n",
    "2. A two-tailed test with $\\alpha = 0.01$. [3 marks]\n",
    "3. Suppose that the observed value of the test statistic was $z = -2.41$. For the rejection regions constructed in parts 1 and 2, draw the appropriate conclusion for the tests. [3 marks]\n",
    "\n",
    "Total Marks: 9"
   ]
  },
  {
   "cell_type": "markdown",
   "id": "48c5e490",
   "metadata": {},
   "source": [
    "#### Solution"
   ]
  },
  {
   "cell_type": "code",
   "execution_count": 4,
   "id": "15409c57",
   "metadata": {},
   "outputs": [
    {
     "name": "stdout",
     "output_type": "stream",
     "text": [
      "Test score statistics for left-tailed test is -2.3263478740408408\n",
      "Test statistic for the 2 tailed case gives us 2.5758293035489004\n"
     ]
    }
   ],
   "source": [
    "# 1 for a left tailed test statisic should be similar to question 1 but instead of using survival function we would need to use critical z scores\n",
    "sig = 0.01\n",
    "z_crit = norm.ppf(0.01)\n",
    "print(\"Test score statistics for left-tailed test is\", z_crit)\n",
    "# since z_crit is < than z_score we can reject the Null hypothesis\n",
    "\n",
    "#2 for two tailed test with α = 0.01, we can follow similar technique but with 1/2 significance on each side \n",
    "z_crit2 = norm.ppf(1-sig/2)\n",
    "print(\"Test statistic for the 2 tailed case gives us\",z_crit2)\n",
    "# since \n"
   ]
  },
  {
   "attachments": {},
   "cell_type": "markdown",
   "id": "117b084e",
   "metadata": {},
   "source": [
    "1. All values below below -2.3263 can be rejected\n",
    "2. All values less than -2.576 and greater than 2.576 can be rejected\n",
    "3. since -2.41 is less than 2.576 but greater than -2.576 we are not in the rejection region for the 2-tailed case so we fail to reject the null hypothesis\n",
    "For the left-tailed case -2.41 is less than -2.326 so we can reject the null hypothesis"
   ]
  },
  {
   "cell_type": "markdown",
   "id": "ca9c1e06",
   "metadata": {},
   "source": [
    "### Question 3\n",
    "\n",
    "A few years ago, a study was done to determine what \"normal\" body temperature is. A random sample of 130 human body temperatures had a mean of 36.81 degree Celcius and a standard deviation of 0.73 degrees. But... physicians usually say that the average temperature is 37 degrees. Does this new data mean that the average body temperature for a healthy person is different than 37 degrees? Test using the following methods below.\n",
    "1. Use the critical value approach (ie. finding critical z-score and test statistic z-score, and comparing them within the rejection region) and $\\alpha = 0.05$ [5 marks]\n",
    "2. Use the p-value approach (ie. finding the test statistic z-scoore and its corresponding p-value to be less than $\\alpha$ [4 marks]\n",
    "3. Compare the conclusions from Part 1 and Part 2. Are they the same, or different? Explain. [1 mark]\n",
    "4. Let's say that the 37 degrees norm was drawn from a doctor in 1868, who claimed to have recorded 1 million temperatures during his research. What conclusions can you draw about his research in light of your conclusions from the above questions? [2 marks]\n",
    "\n",
    "Total Marks: 12 marks"
   ]
  },
  {
   "cell_type": "markdown",
   "id": "a2a065af",
   "metadata": {},
   "source": [
    "#### Solution"
   ]
  },
  {
   "cell_type": "code",
   "execution_count": 7,
   "id": "9f9d935a",
   "metadata": {},
   "outputs": [
    {
     "name": "stdout",
     "output_type": "stream",
     "text": [
      "Z score for this case is -2.967579873545666\n",
      "Z crit for the following is 1.959963984540054\n"
     ]
    }
   ],
   "source": [
    "# Part 1\n",
    "# H0 or null Hypothesis is mu = 37\n",
    "# H1 or alternate hypothesis is mu ≠ 37\n",
    "# constants and vlaues given\n",
    "mu = 37\n",
    "n2 = 130\n",
    "xbar2 = 36.81\n",
    "std2 = 0.73\n",
    "alpha = 0.05\n",
    "# z-score\n",
    "z2 = (xbar2-mu)/(std2/np.sqrt(n2))\n",
    "print(\"Z score for this case is\", z2)\n",
    "\n",
    "# z crit\n",
    "# two tailed case, this works \n",
    "z_crit3 = norm.ppf(1-alpha/2)\n",
    "print(\"Z crit for the following is\", z_crit3)\n",
    "\n"
   ]
  },
  {
   "attachments": {},
   "cell_type": "markdown",
   "id": "ba3235bc",
   "metadata": {},
   "source": [
    "since z score is outside the acceptance range hence we would need to reject the null hypothesis"
   ]
  },
  {
   "cell_type": "code",
   "execution_count": 8,
   "id": "43bb7f81",
   "metadata": {},
   "outputs": [
    {
     "name": "stdout",
     "output_type": "stream",
     "text": [
      "the p-value is  0.0030015428506652013\n"
     ]
    }
   ],
   "source": [
    "# Part 2\n",
    "# Z score remains the same, so we can proceeed with p-value test\n",
    "p_value = 2*norm.cdf(z2)\n",
    "print(\"the p-value is \",p_value)"
   ]
  },
  {
   "attachments": {},
   "cell_type": "markdown",
   "id": "79e8fa3f",
   "metadata": {},
   "source": [
    "since the p-value is less than 0.05 we can reject the null hypothesis there by concluding that temperature is different from 37 similar to the z crit test case"
   ]
  },
  {
   "attachments": {},
   "cell_type": "markdown",
   "id": "d4c55160",
   "metadata": {},
   "source": [
    "# Part 3\n",
    "Both conclusions are the same we reject Null hypothesis. For zcrit, the z score lies in the rejection region of the two tailed test. And for the p-value case since it does not exceed the siginificance of 0.05 we can reject null hypothesis and accept alternate hypothesis"
   ]
  },
  {
   "attachments": {},
   "cell_type": "markdown",
   "id": "dee1a2e7",
   "metadata": {},
   "source": [
    "# Part 4\n",
    "The mean value of 37 is definitely possible. The exact method of acquiring this data, number of trials and true population size is unknown. Moreover, we don't know about environmental or other factors. In fact in recent studies it has been found that the body temperature has been decreasing by 0.03 C per decade. https://elifesciences.org/articles/49555 "
   ]
  },
  {
   "cell_type": "code",
   "execution_count": null,
   "id": "ba7494ef",
   "metadata": {},
   "outputs": [],
   "source": []
  }
 ],
 "metadata": {
  "kernelspec": {
   "display_name": "Python 3",
   "language": "python",
   "name": "python3"
  },
  "language_info": {
   "codemirror_mode": {
    "name": "ipython",
    "version": 3
   },
   "file_extension": ".py",
   "mimetype": "text/x-python",
   "name": "python",
   "nbconvert_exporter": "python",
   "pygments_lexer": "ipython3",
   "version": "3.9.13"
  }
 },
 "nbformat": 4,
 "nbformat_minor": 5
}
